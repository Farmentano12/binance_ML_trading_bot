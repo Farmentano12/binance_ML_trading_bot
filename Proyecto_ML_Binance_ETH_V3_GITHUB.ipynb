{
 "cells": [
  {
   "cell_type": "markdown",
   "metadata": {},
   "source": [
    "# BINANCE AUTOMATED TRADING WITH ML PREDICTIONS"
   ]
  },
  {
   "cell_type": "code",
   "execution_count": 1,
   "metadata": {},
   "outputs": [
    {
     "data": {
      "text/html": [
       "        <script type=\"text/javascript\">\n",
       "        window.PlotlyConfig = {MathJaxConfig: 'local'};\n",
       "        if (window.MathJax) {MathJax.Hub.Config({SVG: {font: \"STIX-Web\"}});}\n",
       "        if (typeof require !== 'undefined') {\n",
       "        require.undef(\"plotly\");\n",
       "        requirejs.config({\n",
       "            paths: {\n",
       "                'plotly': ['https://cdn.plot.ly/plotly-2.2.0.min']\n",
       "            }\n",
       "        });\n",
       "        require(['plotly'], function(Plotly) {\n",
       "            window._Plotly = Plotly;\n",
       "        });\n",
       "        }\n",
       "        </script>\n",
       "        "
      ]
     },
     "metadata": {},
     "output_type": "display_data"
    }
   ],
   "source": [
    "#Import necessary libraries\n",
    "import numpy as np\n",
    "import pandas as pd\n",
    "import seaborn as sns\n",
    "import matplotlib.pyplot as plt\n",
    "import warnings\n",
    "import datetime\n",
    "from datetime import date\n",
    "import plotly.offline as py #visualization\n",
    "import plotly.graph_objs as go #visualization\n",
    "import plotly.subplots as tls #visualization\n",
    "import plotly.figure_factory as ff #visualization\n",
    "py.init_notebook_mode(connected=True) #visualization\n",
    "from scipy import stats\n",
    "warnings.simplefilter(action='ignore', category=FutureWarning)\n",
    "warnings.simplefilter(action='ignore', category=UserWarning)\n",
    "sns.set(style=\"white\")\n",
    "import time\n",
    "from time import sleep\n",
    "import math\n",
    "import random\n",
    "from numpy import arange\n",
    "from numpy import argmax\n",
    "from sklearn.preprocessing import StandardScaler"
   ]
  },
  {
   "cell_type": "code",
   "execution_count": 81,
   "metadata": {},
   "outputs": [],
   "source": [
    "#I define this round down function in order not to have problems to put orders with less than my available amount\n",
    "\n",
    "def round_decimals_down(number:float, decimals:int=4):\n",
    "    \"\"\"\n",
    "    Returns a value rounded down to a specific number of decimal places.\n",
    "    \"\"\"\n",
    "    if not isinstance(decimals, int):\n",
    "        raise TypeError(\"decimal places must be an integer\")\n",
    "    elif decimals < 0:\n",
    "        raise ValueError(\"decimal places has to be 0 or more\")\n",
    "    elif decimals == 0:\n",
    "        return math.floor(number)\n",
    "\n",
    "    factor = 10 ** decimals\n",
    "    return math.floor(number * factor) / factor"
   ]
  },
  {
   "cell_type": "markdown",
   "metadata": {},
   "source": [
    "## 1. DATA"
   ]
  },
  {
   "cell_type": "code",
   "execution_count": 2,
   "metadata": {},
   "outputs": [
    {
     "data": {
      "text/html": [
       "<div>\n",
       "<style scoped>\n",
       "    .dataframe tbody tr th:only-of-type {\n",
       "        vertical-align: middle;\n",
       "    }\n",
       "\n",
       "    .dataframe tbody tr th {\n",
       "        vertical-align: top;\n",
       "    }\n",
       "\n",
       "    .dataframe thead th {\n",
       "        text-align: right;\n",
       "    }\n",
       "</style>\n",
       "<table border=\"1\" class=\"dataframe\">\n",
       "  <thead>\n",
       "    <tr style=\"text-align: right;\">\n",
       "      <th></th>\n",
       "      <th>Open_Time</th>\n",
       "      <th>Open</th>\n",
       "      <th>High</th>\n",
       "      <th>Low</th>\n",
       "      <th>Close</th>\n",
       "      <th>Volume</th>\n",
       "      <th>Close_Time</th>\n",
       "      <th>Quote_Asset_Volume</th>\n",
       "      <th>Trades</th>\n",
       "      <th>Taker_buy_Volume</th>\n",
       "      <th>Taker_buy_asset_volume</th>\n",
       "      <th>Return</th>\n",
       "    </tr>\n",
       "  </thead>\n",
       "  <tbody>\n",
       "    <tr>\n",
       "      <th>0</th>\n",
       "      <td>2021-12-29 13:00:00</td>\n",
       "      <td>3795.05</td>\n",
       "      <td>3799.32</td>\n",
       "      <td>3770.42</td>\n",
       "      <td>3784.34</td>\n",
       "      <td>7866.3086</td>\n",
       "      <td>2021-12-29 13:59:59.999</td>\n",
       "      <td>2.976231e+07</td>\n",
       "      <td>21349</td>\n",
       "      <td>3652.6774</td>\n",
       "      <td>1.382078e+07</td>\n",
       "      <td>False</td>\n",
       "    </tr>\n",
       "    <tr>\n",
       "      <th>1</th>\n",
       "      <td>2021-12-29 14:00:00</td>\n",
       "      <td>3784.33</td>\n",
       "      <td>3784.76</td>\n",
       "      <td>3748.87</td>\n",
       "      <td>3754.46</td>\n",
       "      <td>7197.7953</td>\n",
       "      <td>2021-12-29 14:59:59.999</td>\n",
       "      <td>2.711219e+07</td>\n",
       "      <td>19345</td>\n",
       "      <td>3406.1131</td>\n",
       "      <td>1.282904e+07</td>\n",
       "      <td>False</td>\n",
       "    </tr>\n",
       "    <tr>\n",
       "      <th>2</th>\n",
       "      <td>2021-12-29 15:00:00</td>\n",
       "      <td>3754.47</td>\n",
       "      <td>3777.03</td>\n",
       "      <td>3745.00</td>\n",
       "      <td>3753.65</td>\n",
       "      <td>9586.1162</td>\n",
       "      <td>2021-12-29 15:59:59.999</td>\n",
       "      <td>3.605702e+07</td>\n",
       "      <td>20683</td>\n",
       "      <td>4395.9200</td>\n",
       "      <td>1.653329e+07</td>\n",
       "      <td>False</td>\n",
       "    </tr>\n",
       "    <tr>\n",
       "      <th>3</th>\n",
       "      <td>2021-12-29 16:00:00</td>\n",
       "      <td>3753.65</td>\n",
       "      <td>3755.83</td>\n",
       "      <td>3712.84</td>\n",
       "      <td>3725.68</td>\n",
       "      <td>9801.4623</td>\n",
       "      <td>2021-12-29 16:59:59.999</td>\n",
       "      <td>3.658612e+07</td>\n",
       "      <td>26369</td>\n",
       "      <td>4732.8865</td>\n",
       "      <td>1.766420e+07</td>\n",
       "      <td>False</td>\n",
       "    </tr>\n",
       "    <tr>\n",
       "      <th>4</th>\n",
       "      <td>2021-12-29 17:00:00</td>\n",
       "      <td>3725.69</td>\n",
       "      <td>3768.51</td>\n",
       "      <td>3718.07</td>\n",
       "      <td>3746.22</td>\n",
       "      <td>9488.2592</td>\n",
       "      <td>2021-12-29 17:59:59.999</td>\n",
       "      <td>3.553895e+07</td>\n",
       "      <td>24097</td>\n",
       "      <td>4706.9848</td>\n",
       "      <td>1.763012e+07</td>\n",
       "      <td>False</td>\n",
       "    </tr>\n",
       "  </tbody>\n",
       "</table>\n",
       "</div>"
      ],
      "text/plain": [
       "            Open_Time     Open     High      Low    Close     Volume  \\\n",
       "0 2021-12-29 13:00:00  3795.05  3799.32  3770.42  3784.34  7866.3086   \n",
       "1 2021-12-29 14:00:00  3784.33  3784.76  3748.87  3754.46  7197.7953   \n",
       "2 2021-12-29 15:00:00  3754.47  3777.03  3745.00  3753.65  9586.1162   \n",
       "3 2021-12-29 16:00:00  3753.65  3755.83  3712.84  3725.68  9801.4623   \n",
       "4 2021-12-29 17:00:00  3725.69  3768.51  3718.07  3746.22  9488.2592   \n",
       "\n",
       "               Close_Time  Quote_Asset_Volume  Trades  Taker_buy_Volume  \\\n",
       "0 2021-12-29 13:59:59.999        2.976231e+07   21349         3652.6774   \n",
       "1 2021-12-29 14:59:59.999        2.711219e+07   19345         3406.1131   \n",
       "2 2021-12-29 15:59:59.999        3.605702e+07   20683         4395.9200   \n",
       "3 2021-12-29 16:59:59.999        3.658612e+07   26369         4732.8865   \n",
       "4 2021-12-29 17:59:59.999        3.553895e+07   24097         4706.9848   \n",
       "\n",
       "   Taker_buy_asset_volume  Return  \n",
       "0            1.382078e+07   False  \n",
       "1            1.282904e+07   False  \n",
       "2            1.653329e+07   False  \n",
       "3            1.766420e+07   False  \n",
       "4            1.763012e+07   False  "
      ]
     },
     "execution_count": 2,
     "metadata": {},
     "output_type": "execute_result"
    }
   ],
   "source": [
    "import requests\n",
    "\n",
    "market = 'ETHUSDT'\n",
    "tick_interval = '1h'\n",
    "\n",
    "url = 'https://api.binance.com/api/v3/klines?symbol='+market+'&interval='+tick_interval\n",
    "data = requests.get(url).json()\n",
    "\n",
    "data = pd.DataFrame(data)\n",
    "\n",
    "data.columns = ['Open_Time','Open','High','Low','Close',\n",
    "               'Volume','Close_Time','Quote_Asset_Volume',\n",
    "               'Trades','Taker_buy_Volume','Taker_buy_asset_volume','Out']\n",
    "\n",
    "data['Open_Time'] = data.Open_Time.apply(lambda x: datetime.datetime.fromtimestamp(x/1000))\n",
    "data['Close_Time'] = data.Close_Time.apply(lambda x: datetime.datetime.fromtimestamp(x/1000))\n",
    "data['Open'] = data['Open'].astype(float)\n",
    "data['High'] = data['High'].astype(float)\n",
    "data['Low'] = data['Low'].astype(float)\n",
    "data['Quote_Asset_Volume'] = data['Quote_Asset_Volume'].astype(float)\n",
    "data['Close'] = data['Close'].astype(float)\n",
    "data['Taker_buy_Volume'] = data['Taker_buy_Volume'].astype(float)\n",
    "data['Taker_buy_asset_volume'] = data['Taker_buy_asset_volume'].astype(float)\n",
    "data['Volume'] = data['Volume'].astype(float)\n",
    "data['Trades'] = data['Trades'].astype(int)\n",
    "\n",
    "#data['Return'] = data['High']/data['Open']\n",
    "\n",
    "#Here I set the conditions!\n",
    "data['Return'] = np.where((data['High']/data['Open'] > 1.02) &\n",
    "                          (data['Close']/data['Open'] > 1.015) &\n",
    "                          (data['Low']/data['Open'] > 0.97), True, False)\n",
    "\n",
    "\n",
    "data = data.drop(['Out'], axis = 1)\n",
    "\n",
    "data = data.reset_index()\n",
    "\n",
    "df = data.copy()\n",
    "\n",
    "#data['Return_1'] = 0\n",
    "#data['Return_1'] = data['Return'].ffill()\n",
    "\n",
    "data_1 = data.copy()\n",
    "data_1['index'] = data_1['index']-1\n",
    "data_1 = data_1.drop(['Open_Time','Open','High','Low','Close',\n",
    "               'Volume','Close_Time','Quote_Asset_Volume',\n",
    "               'Trades','Taker_buy_Volume','Taker_buy_asset_volume'], axis = 1)\n",
    "\n",
    "data = pd.merge(data,data_1, how = 'inner', on = 'index')\n",
    "\n",
    "data = data.drop(['Return_x', 'index'], axis = 1)\n",
    "\n",
    "data.columns = ['Open_Time','Open','High','Low','Close',\n",
    "               'Volume','Close_Time','Quote_Asset_Volume',\n",
    "               'Trades','Taker_buy_Volume','Taker_buy_asset_volume', 'Return']\n",
    "\n",
    "data.head()"
   ]
  },
  {
   "cell_type": "markdown",
   "metadata": {},
   "source": [
    "I scale features used to predict"
   ]
  },
  {
   "cell_type": "code",
   "execution_count": 3,
   "metadata": {},
   "outputs": [],
   "source": [
    "def Zscore(df):\n",
    "    score=zscore(np.array(df))\n",
    "    return np.abs(score[len(score)//2])"
   ]
  },
  {
   "cell_type": "code",
   "execution_count": 4,
   "metadata": {},
   "outputs": [],
   "source": [
    "se=StandardScaler()"
   ]
  },
  {
   "cell_type": "code",
   "execution_count": 5,
   "metadata": {},
   "outputs": [],
   "source": [
    "data['Open_norm']=se.fit_transform(data.Open.values.reshape(-1, 1))\n",
    "data['High_norm']=se.fit_transform(data.High.values.reshape(-1, 1))\n",
    "data['Low_norm']=se.fit_transform(data.Low.values.reshape(-1, 1))\n",
    "data['Close_norm']=se.fit_transform(data.Close.values.reshape(-1, 1))\n",
    "data['Quote_Asset_Volume_norm']=se.fit_transform(data.Quote_Asset_Volume.values.reshape(-1, 1))\n",
    "data['Trades_norm']=se.fit_transform(data.Trades.values.reshape(-1, 1))\n",
    "data['Taker_buy_Volume_norm']=se.fit_transform(data.Taker_buy_Volume.values.reshape(-1, 1))\n",
    "data['Taker_buy_asset_volume_norm']=se.fit_transform(data.Taker_buy_asset_volume.values.reshape(-1, 1))"
   ]
  },
  {
   "cell_type": "code",
   "execution_count": 7,
   "metadata": {},
   "outputs": [
    {
     "data": {
      "text/html": [
       "<div>\n",
       "<style scoped>\n",
       "    .dataframe tbody tr th:only-of-type {\n",
       "        vertical-align: middle;\n",
       "    }\n",
       "\n",
       "    .dataframe tbody tr th {\n",
       "        vertical-align: top;\n",
       "    }\n",
       "\n",
       "    .dataframe thead th {\n",
       "        text-align: right;\n",
       "    }\n",
       "</style>\n",
       "<table border=\"1\" class=\"dataframe\">\n",
       "  <thead>\n",
       "    <tr style=\"text-align: right;\">\n",
       "      <th></th>\n",
       "      <th>Open_Time</th>\n",
       "      <th>Open</th>\n",
       "      <th>High</th>\n",
       "      <th>Low</th>\n",
       "      <th>Close</th>\n",
       "      <th>Volume</th>\n",
       "      <th>Close_Time</th>\n",
       "      <th>Quote_Asset_Volume</th>\n",
       "      <th>Trades</th>\n",
       "      <th>Taker_buy_Volume</th>\n",
       "      <th>Taker_buy_asset_volume</th>\n",
       "      <th>Open_norm</th>\n",
       "      <th>High_norm</th>\n",
       "      <th>Low_norm</th>\n",
       "      <th>Close_norm</th>\n",
       "      <th>Quote_Asset_Volume_norm</th>\n",
       "      <th>Trades_norm</th>\n",
       "      <th>Taker_buy_Volume_norm</th>\n",
       "      <th>Taker_buy_asset_volume_norm</th>\n",
       "    </tr>\n",
       "    <tr>\n",
       "      <th>Return</th>\n",
       "      <th></th>\n",
       "      <th></th>\n",
       "      <th></th>\n",
       "      <th></th>\n",
       "      <th></th>\n",
       "      <th></th>\n",
       "      <th></th>\n",
       "      <th></th>\n",
       "      <th></th>\n",
       "      <th></th>\n",
       "      <th></th>\n",
       "      <th></th>\n",
       "      <th></th>\n",
       "      <th></th>\n",
       "      <th></th>\n",
       "      <th></th>\n",
       "      <th></th>\n",
       "      <th></th>\n",
       "      <th></th>\n",
       "    </tr>\n",
       "  </thead>\n",
       "  <tbody>\n",
       "    <tr>\n",
       "      <th>False</th>\n",
       "      <td>493</td>\n",
       "      <td>493</td>\n",
       "      <td>493</td>\n",
       "      <td>493</td>\n",
       "      <td>493</td>\n",
       "      <td>493</td>\n",
       "      <td>493</td>\n",
       "      <td>493</td>\n",
       "      <td>493</td>\n",
       "      <td>493</td>\n",
       "      <td>493</td>\n",
       "      <td>493</td>\n",
       "      <td>493</td>\n",
       "      <td>493</td>\n",
       "      <td>493</td>\n",
       "      <td>493</td>\n",
       "      <td>493</td>\n",
       "      <td>493</td>\n",
       "      <td>493</td>\n",
       "    </tr>\n",
       "    <tr>\n",
       "      <th>True</th>\n",
       "      <td>6</td>\n",
       "      <td>6</td>\n",
       "      <td>6</td>\n",
       "      <td>6</td>\n",
       "      <td>6</td>\n",
       "      <td>6</td>\n",
       "      <td>6</td>\n",
       "      <td>6</td>\n",
       "      <td>6</td>\n",
       "      <td>6</td>\n",
       "      <td>6</td>\n",
       "      <td>6</td>\n",
       "      <td>6</td>\n",
       "      <td>6</td>\n",
       "      <td>6</td>\n",
       "      <td>6</td>\n",
       "      <td>6</td>\n",
       "      <td>6</td>\n",
       "      <td>6</td>\n",
       "    </tr>\n",
       "  </tbody>\n",
       "</table>\n",
       "</div>"
      ],
      "text/plain": [
       "        Open_Time  Open  High  Low  Close  Volume  Close_Time  \\\n",
       "Return                                                          \n",
       "False         493   493   493  493    493     493         493   \n",
       "True            6     6     6    6      6       6           6   \n",
       "\n",
       "        Quote_Asset_Volume  Trades  Taker_buy_Volume  Taker_buy_asset_volume  \\\n",
       "Return                                                                         \n",
       "False                  493     493               493                     493   \n",
       "True                     6       6                 6                       6   \n",
       "\n",
       "        Open_norm  High_norm  Low_norm  Close_norm  Quote_Asset_Volume_norm  \\\n",
       "Return                                                                        \n",
       "False         493        493       493         493                      493   \n",
       "True            6          6         6           6                        6   \n",
       "\n",
       "        Trades_norm  Taker_buy_Volume_norm  Taker_buy_asset_volume_norm  \n",
       "Return                                                                   \n",
       "False           493                    493                          493  \n",
       "True              6                      6                            6  "
      ]
     },
     "execution_count": 7,
     "metadata": {},
     "output_type": "execute_result"
    }
   ],
   "source": [
    "#data = data[data['Return_y'] == True]\n",
    "#data\n",
    "#I see how many of the candlesticks did actually fill the conditions\n",
    "data.groupby('Return').count()"
   ]
  },
  {
   "cell_type": "code",
   "execution_count": 8,
   "metadata": {},
   "outputs": [
    {
     "data": {
      "text/html": [
       "<div>\n",
       "<style scoped>\n",
       "    .dataframe tbody tr th:only-of-type {\n",
       "        vertical-align: middle;\n",
       "    }\n",
       "\n",
       "    .dataframe tbody tr th {\n",
       "        vertical-align: top;\n",
       "    }\n",
       "\n",
       "    .dataframe thead th {\n",
       "        text-align: right;\n",
       "    }\n",
       "</style>\n",
       "<table border=\"1\" class=\"dataframe\">\n",
       "  <thead>\n",
       "    <tr style=\"text-align: right;\">\n",
       "      <th></th>\n",
       "      <th>Open_Time</th>\n",
       "      <th>Open</th>\n",
       "      <th>High</th>\n",
       "      <th>Low</th>\n",
       "      <th>Close</th>\n",
       "      <th>Volume</th>\n",
       "      <th>Close_Time</th>\n",
       "      <th>Quote_Asset_Volume</th>\n",
       "      <th>Trades</th>\n",
       "      <th>Taker_buy_Volume</th>\n",
       "      <th>Taker_buy_asset_volume</th>\n",
       "      <th>Return</th>\n",
       "      <th>Open_norm</th>\n",
       "      <th>High_norm</th>\n",
       "      <th>Low_norm</th>\n",
       "      <th>Close_norm</th>\n",
       "      <th>Quote_Asset_Volume_norm</th>\n",
       "      <th>Trades_norm</th>\n",
       "      <th>Taker_buy_Volume_norm</th>\n",
       "      <th>Taker_buy_asset_volume_norm</th>\n",
       "    </tr>\n",
       "  </thead>\n",
       "  <tbody>\n",
       "    <tr>\n",
       "      <th>39</th>\n",
       "      <td>2021-12-31 04:00:00</td>\n",
       "      <td>3738.46</td>\n",
       "      <td>3748.34</td>\n",
       "      <td>3687.00</td>\n",
       "      <td>3721.88</td>\n",
       "      <td>11817.6224</td>\n",
       "      <td>2021-12-31 04:59:59.999</td>\n",
       "      <td>4.386023e+07</td>\n",
       "      <td>26241</td>\n",
       "      <td>6294.9974</td>\n",
       "      <td>2.336069e+07</td>\n",
       "      <td>True</td>\n",
       "      <td>1.207742</td>\n",
       "      <td>1.183919</td>\n",
       "      <td>1.077520</td>\n",
       "      <td>1.150335</td>\n",
       "      <td>-0.040706</td>\n",
       "      <td>-0.121181</td>\n",
       "      <td>-0.063287</td>\n",
       "      <td>0.052007</td>\n",
       "    </tr>\n",
       "    <tr>\n",
       "      <th>215</th>\n",
       "      <td>2022-01-07 12:00:00</td>\n",
       "      <td>3208.20</td>\n",
       "      <td>3209.66</td>\n",
       "      <td>3064.42</td>\n",
       "      <td>3131.69</td>\n",
       "      <td>62334.0102</td>\n",
       "      <td>2022-01-07 12:59:59.999</td>\n",
       "      <td>1.954928e+08</td>\n",
       "      <td>107790</td>\n",
       "      <td>28214.2028</td>\n",
       "      <td>8.854184e+07</td>\n",
       "      <td>True</td>\n",
       "      <td>-0.813448</td>\n",
       "      <td>-0.875220</td>\n",
       "      <td>-1.278246</td>\n",
       "      <td>-1.099927</td>\n",
       "      <td>3.945555</td>\n",
       "      <td>3.935762</td>\n",
       "      <td>3.765030</td>\n",
       "      <td>3.601108</td>\n",
       "    </tr>\n",
       "    <tr>\n",
       "      <th>244</th>\n",
       "      <td>2022-01-08 17:00:00</td>\n",
       "      <td>3028.75</td>\n",
       "      <td>3055.06</td>\n",
       "      <td>3003.30</td>\n",
       "      <td>3031.62</td>\n",
       "      <td>22372.1694</td>\n",
       "      <td>2022-01-08 17:59:59.999</td>\n",
       "      <td>6.780989e+07</td>\n",
       "      <td>44543</td>\n",
       "      <td>12765.0411</td>\n",
       "      <td>3.870278e+07</td>\n",
       "      <td>True</td>\n",
       "      <td>-1.497458</td>\n",
       "      <td>-1.466188</td>\n",
       "      <td>-1.509516</td>\n",
       "      <td>-1.481471</td>\n",
       "      <td>0.588905</td>\n",
       "      <td>0.789317</td>\n",
       "      <td>1.066744</td>\n",
       "      <td>0.887380</td>\n",
       "    </tr>\n",
       "    <tr>\n",
       "      <th>287</th>\n",
       "      <td>2022-01-10 12:00:00</td>\n",
       "      <td>3018.96</td>\n",
       "      <td>3032.40</td>\n",
       "      <td>2981.03</td>\n",
       "      <td>3006.26</td>\n",
       "      <td>40379.5084</td>\n",
       "      <td>2022-01-10 12:59:59.999</td>\n",
       "      <td>1.213584e+08</td>\n",
       "      <td>69871</td>\n",
       "      <td>20391.3803</td>\n",
       "      <td>6.129941e+07</td>\n",
       "      <td>True</td>\n",
       "      <td>-1.534774</td>\n",
       "      <td>-1.552807</td>\n",
       "      <td>-1.593783</td>\n",
       "      <td>-1.578163</td>\n",
       "      <td>1.996639</td>\n",
       "      <td>2.049348</td>\n",
       "      <td>2.398728</td>\n",
       "      <td>2.117762</td>\n",
       "    </tr>\n",
       "    <tr>\n",
       "      <th>311</th>\n",
       "      <td>2022-01-11 12:00:00</td>\n",
       "      <td>3115.33</td>\n",
       "      <td>3158.56</td>\n",
       "      <td>3110.75</td>\n",
       "      <td>3133.56</td>\n",
       "      <td>21964.9648</td>\n",
       "      <td>2022-01-11 12:59:59.999</td>\n",
       "      <td>6.886031e+07</td>\n",
       "      <td>45910</td>\n",
       "      <td>11657.8969</td>\n",
       "      <td>3.655412e+07</td>\n",
       "      <td>True</td>\n",
       "      <td>-1.167441</td>\n",
       "      <td>-1.070553</td>\n",
       "      <td>-1.102939</td>\n",
       "      <td>-1.092797</td>\n",
       "      <td>0.616520</td>\n",
       "      <td>0.857323</td>\n",
       "      <td>0.873375</td>\n",
       "      <td>0.770386</td>\n",
       "    </tr>\n",
       "    <tr>\n",
       "      <th>381</th>\n",
       "      <td>2022-01-14 10:00:00</td>\n",
       "      <td>3211.39</td>\n",
       "      <td>3230.75</td>\n",
       "      <td>3203.39</td>\n",
       "      <td>3210.15</td>\n",
       "      <td>10100.8664</td>\n",
       "      <td>2022-01-14 10:59:59.999</td>\n",
       "      <td>3.251572e+07</td>\n",
       "      <td>21121</td>\n",
       "      <td>4779.1069</td>\n",
       "      <td>1.538496e+07</td>\n",
       "      <td>True</td>\n",
       "      <td>-0.801289</td>\n",
       "      <td>-0.794602</td>\n",
       "      <td>-0.752400</td>\n",
       "      <td>-0.800777</td>\n",
       "      <td>-0.338942</td>\n",
       "      <td>-0.375894</td>\n",
       "      <td>-0.328046</td>\n",
       "      <td>-0.382271</td>\n",
       "    </tr>\n",
       "  </tbody>\n",
       "</table>\n",
       "</div>"
      ],
      "text/plain": [
       "              Open_Time     Open     High      Low    Close      Volume  \\\n",
       "39  2021-12-31 04:00:00  3738.46  3748.34  3687.00  3721.88  11817.6224   \n",
       "215 2022-01-07 12:00:00  3208.20  3209.66  3064.42  3131.69  62334.0102   \n",
       "244 2022-01-08 17:00:00  3028.75  3055.06  3003.30  3031.62  22372.1694   \n",
       "287 2022-01-10 12:00:00  3018.96  3032.40  2981.03  3006.26  40379.5084   \n",
       "311 2022-01-11 12:00:00  3115.33  3158.56  3110.75  3133.56  21964.9648   \n",
       "381 2022-01-14 10:00:00  3211.39  3230.75  3203.39  3210.15  10100.8664   \n",
       "\n",
       "                 Close_Time  Quote_Asset_Volume  Trades  Taker_buy_Volume  \\\n",
       "39  2021-12-31 04:59:59.999        4.386023e+07   26241         6294.9974   \n",
       "215 2022-01-07 12:59:59.999        1.954928e+08  107790        28214.2028   \n",
       "244 2022-01-08 17:59:59.999        6.780989e+07   44543        12765.0411   \n",
       "287 2022-01-10 12:59:59.999        1.213584e+08   69871        20391.3803   \n",
       "311 2022-01-11 12:59:59.999        6.886031e+07   45910        11657.8969   \n",
       "381 2022-01-14 10:59:59.999        3.251572e+07   21121         4779.1069   \n",
       "\n",
       "     Taker_buy_asset_volume  Return  Open_norm  High_norm  Low_norm  \\\n",
       "39             2.336069e+07    True   1.207742   1.183919  1.077520   \n",
       "215            8.854184e+07    True  -0.813448  -0.875220 -1.278246   \n",
       "244            3.870278e+07    True  -1.497458  -1.466188 -1.509516   \n",
       "287            6.129941e+07    True  -1.534774  -1.552807 -1.593783   \n",
       "311            3.655412e+07    True  -1.167441  -1.070553 -1.102939   \n",
       "381            1.538496e+07    True  -0.801289  -0.794602 -0.752400   \n",
       "\n",
       "     Close_norm  Quote_Asset_Volume_norm  Trades_norm  Taker_buy_Volume_norm  \\\n",
       "39     1.150335                -0.040706    -0.121181              -0.063287   \n",
       "215   -1.099927                 3.945555     3.935762               3.765030   \n",
       "244   -1.481471                 0.588905     0.789317               1.066744   \n",
       "287   -1.578163                 1.996639     2.049348               2.398728   \n",
       "311   -1.092797                 0.616520     0.857323               0.873375   \n",
       "381   -0.800777                -0.338942    -0.375894              -0.328046   \n",
       "\n",
       "     Taker_buy_asset_volume_norm  \n",
       "39                      0.052007  \n",
       "215                     3.601108  \n",
       "244                     0.887380  \n",
       "287                     2.117762  \n",
       "311                     0.770386  \n",
       "381                    -0.382271  "
      ]
     },
     "execution_count": 8,
     "metadata": {},
     "output_type": "execute_result"
    }
   ],
   "source": [
    "data_see = data[data['Return'] == True]\n",
    "data_see"
   ]
  },
  {
   "cell_type": "code",
   "execution_count": 9,
   "metadata": {},
   "outputs": [
    {
     "name": "stdout",
     "output_type": "stream",
     "text": [
      "<class 'pandas.core.frame.DataFrame'>\n",
      "Int64Index: 499 entries, 0 to 498\n",
      "Data columns (total 20 columns):\n",
      " #   Column                       Non-Null Count  Dtype         \n",
      "---  ------                       --------------  -----         \n",
      " 0   Open_Time                    499 non-null    datetime64[ns]\n",
      " 1   Open                         499 non-null    float64       \n",
      " 2   High                         499 non-null    float64       \n",
      " 3   Low                          499 non-null    float64       \n",
      " 4   Close                        499 non-null    float64       \n",
      " 5   Volume                       499 non-null    float64       \n",
      " 6   Close_Time                   499 non-null    datetime64[ns]\n",
      " 7   Quote_Asset_Volume           499 non-null    float64       \n",
      " 8   Trades                       499 non-null    int64         \n",
      " 9   Taker_buy_Volume             499 non-null    float64       \n",
      " 10  Taker_buy_asset_volume       499 non-null    float64       \n",
      " 11  Return                       499 non-null    bool          \n",
      " 12  Open_norm                    499 non-null    float64       \n",
      " 13  High_norm                    499 non-null    float64       \n",
      " 14  Low_norm                     499 non-null    float64       \n",
      " 15  Close_norm                   499 non-null    float64       \n",
      " 16  Quote_Asset_Volume_norm      499 non-null    float64       \n",
      " 17  Trades_norm                  499 non-null    float64       \n",
      " 18  Taker_buy_Volume_norm        499 non-null    float64       \n",
      " 19  Taker_buy_asset_volume_norm  499 non-null    float64       \n",
      "dtypes: bool(1), datetime64[ns](2), float64(16), int64(1)\n",
      "memory usage: 78.5 KB\n"
     ]
    }
   ],
   "source": [
    "data.info()"
   ]
  },
  {
   "cell_type": "markdown",
   "metadata": {},
   "source": [
    "## 2. DATA PRE PROCESSING"
   ]
  },
  {
   "cell_type": "code",
   "execution_count": 10,
   "metadata": {},
   "outputs": [],
   "source": [
    "from sklearn.preprocessing import LabelEncoder\n",
    "from sklearn.preprocessing import StandardScaler"
   ]
  },
  {
   "cell_type": "markdown",
   "metadata": {},
   "source": [
    "## 3. ML MODEL"
   ]
  },
  {
   "cell_type": "code",
   "execution_count": 11,
   "metadata": {},
   "outputs": [],
   "source": [
    "from sklearn.model_selection import train_test_split\n",
    "from sklearn.linear_model import LogisticRegression\n",
    "from sklearn import metrics\n",
    "from sklearn.metrics import confusion_matrix,accuracy_score,classification_report\n",
    "from sklearn.metrics import roc_auc_score,roc_curve #, scorer\n",
    "from sklearn.metrics import f1_score\n",
    "import statsmodels.api as sm\n",
    "from sklearn.metrics import precision_score,recall_score\n",
    "from yellowbrick.classifier import DiscriminationThreshold"
   ]
  },
  {
   "cell_type": "code",
   "execution_count": 12,
   "metadata": {},
   "outputs": [
    {
     "data": {
      "text/html": [
       "<div>\n",
       "<style scoped>\n",
       "    .dataframe tbody tr th:only-of-type {\n",
       "        vertical-align: middle;\n",
       "    }\n",
       "\n",
       "    .dataframe tbody tr th {\n",
       "        vertical-align: top;\n",
       "    }\n",
       "\n",
       "    .dataframe thead th {\n",
       "        text-align: right;\n",
       "    }\n",
       "</style>\n",
       "<table border=\"1\" class=\"dataframe\">\n",
       "  <thead>\n",
       "    <tr style=\"text-align: right;\">\n",
       "      <th></th>\n",
       "      <th>Open_Time</th>\n",
       "      <th>Open</th>\n",
       "      <th>High</th>\n",
       "      <th>Low</th>\n",
       "      <th>Close</th>\n",
       "      <th>Volume</th>\n",
       "      <th>Close_Time</th>\n",
       "      <th>Quote_Asset_Volume</th>\n",
       "      <th>Trades</th>\n",
       "      <th>Taker_buy_Volume</th>\n",
       "      <th>Taker_buy_asset_volume</th>\n",
       "      <th>Return</th>\n",
       "      <th>Open_norm</th>\n",
       "      <th>High_norm</th>\n",
       "      <th>Low_norm</th>\n",
       "      <th>Close_norm</th>\n",
       "      <th>Quote_Asset_Volume_norm</th>\n",
       "      <th>Trades_norm</th>\n",
       "      <th>Taker_buy_Volume_norm</th>\n",
       "      <th>Taker_buy_asset_volume_norm</th>\n",
       "    </tr>\n",
       "  </thead>\n",
       "  <tbody>\n",
       "    <tr>\n",
       "      <th>0</th>\n",
       "      <td>2021-12-29 13:00:00</td>\n",
       "      <td>3795.05</td>\n",
       "      <td>3799.32</td>\n",
       "      <td>3770.42</td>\n",
       "      <td>3784.34</td>\n",
       "      <td>7866.3086</td>\n",
       "      <td>2021-12-29 13:59:59.999</td>\n",
       "      <td>2.976231e+07</td>\n",
       "      <td>21349</td>\n",
       "      <td>3652.6774</td>\n",
       "      <td>1.382078e+07</td>\n",
       "      <td>False</td>\n",
       "      <td>1.423446</td>\n",
       "      <td>1.378793</td>\n",
       "      <td>1.393171</td>\n",
       "      <td>1.388481</td>\n",
       "      <td>-0.411326</td>\n",
       "      <td>-0.364551</td>\n",
       "      <td>-0.524783</td>\n",
       "      <td>-0.467440</td>\n",
       "    </tr>\n",
       "    <tr>\n",
       "      <th>1</th>\n",
       "      <td>2021-12-29 14:00:00</td>\n",
       "      <td>3784.33</td>\n",
       "      <td>3784.76</td>\n",
       "      <td>3748.87</td>\n",
       "      <td>3754.46</td>\n",
       "      <td>7197.7953</td>\n",
       "      <td>2021-12-29 14:59:59.999</td>\n",
       "      <td>2.711219e+07</td>\n",
       "      <td>19345</td>\n",
       "      <td>3406.1131</td>\n",
       "      <td>1.282904e+07</td>\n",
       "      <td>False</td>\n",
       "      <td>1.382585</td>\n",
       "      <td>1.323137</td>\n",
       "      <td>1.311628</td>\n",
       "      <td>1.274555</td>\n",
       "      <td>-0.480995</td>\n",
       "      <td>-0.464247</td>\n",
       "      <td>-0.567847</td>\n",
       "      <td>-0.521440</td>\n",
       "    </tr>\n",
       "    <tr>\n",
       "      <th>2</th>\n",
       "      <td>2021-12-29 15:00:00</td>\n",
       "      <td>3754.47</td>\n",
       "      <td>3777.03</td>\n",
       "      <td>3745.00</td>\n",
       "      <td>3753.65</td>\n",
       "      <td>9586.1162</td>\n",
       "      <td>2021-12-29 15:59:59.999</td>\n",
       "      <td>3.605702e+07</td>\n",
       "      <td>20683</td>\n",
       "      <td>4395.9200</td>\n",
       "      <td>1.653329e+07</td>\n",
       "      <td>False</td>\n",
       "      <td>1.268767</td>\n",
       "      <td>1.293588</td>\n",
       "      <td>1.296985</td>\n",
       "      <td>1.271467</td>\n",
       "      <td>-0.245845</td>\n",
       "      <td>-0.397683</td>\n",
       "      <td>-0.394972</td>\n",
       "      <td>-0.319744</td>\n",
       "    </tr>\n",
       "    <tr>\n",
       "      <th>3</th>\n",
       "      <td>2021-12-29 16:00:00</td>\n",
       "      <td>3753.65</td>\n",
       "      <td>3755.83</td>\n",
       "      <td>3712.84</td>\n",
       "      <td>3725.68</td>\n",
       "      <td>9801.4623</td>\n",
       "      <td>2021-12-29 16:59:59.999</td>\n",
       "      <td>3.658612e+07</td>\n",
       "      <td>26369</td>\n",
       "      <td>4732.8865</td>\n",
       "      <td>1.766420e+07</td>\n",
       "      <td>False</td>\n",
       "      <td>1.265642</td>\n",
       "      <td>1.212550</td>\n",
       "      <td>1.175295</td>\n",
       "      <td>1.164823</td>\n",
       "      <td>-0.231935</td>\n",
       "      <td>-0.114813</td>\n",
       "      <td>-0.336119</td>\n",
       "      <td>-0.258166</td>\n",
       "    </tr>\n",
       "    <tr>\n",
       "      <th>4</th>\n",
       "      <td>2021-12-29 17:00:00</td>\n",
       "      <td>3725.69</td>\n",
       "      <td>3768.51</td>\n",
       "      <td>3718.07</td>\n",
       "      <td>3746.22</td>\n",
       "      <td>9488.2592</td>\n",
       "      <td>2021-12-29 17:59:59.999</td>\n",
       "      <td>3.553895e+07</td>\n",
       "      <td>24097</td>\n",
       "      <td>4706.9848</td>\n",
       "      <td>1.763012e+07</td>\n",
       "      <td>False</td>\n",
       "      <td>1.159067</td>\n",
       "      <td>1.261020</td>\n",
       "      <td>1.195085</td>\n",
       "      <td>1.243138</td>\n",
       "      <td>-0.259464</td>\n",
       "      <td>-0.227842</td>\n",
       "      <td>-0.340643</td>\n",
       "      <td>-0.260022</td>\n",
       "    </tr>\n",
       "  </tbody>\n",
       "</table>\n",
       "</div>"
      ],
      "text/plain": [
       "            Open_Time     Open     High      Low    Close     Volume  \\\n",
       "0 2021-12-29 13:00:00  3795.05  3799.32  3770.42  3784.34  7866.3086   \n",
       "1 2021-12-29 14:00:00  3784.33  3784.76  3748.87  3754.46  7197.7953   \n",
       "2 2021-12-29 15:00:00  3754.47  3777.03  3745.00  3753.65  9586.1162   \n",
       "3 2021-12-29 16:00:00  3753.65  3755.83  3712.84  3725.68  9801.4623   \n",
       "4 2021-12-29 17:00:00  3725.69  3768.51  3718.07  3746.22  9488.2592   \n",
       "\n",
       "               Close_Time  Quote_Asset_Volume  Trades  Taker_buy_Volume  \\\n",
       "0 2021-12-29 13:59:59.999        2.976231e+07   21349         3652.6774   \n",
       "1 2021-12-29 14:59:59.999        2.711219e+07   19345         3406.1131   \n",
       "2 2021-12-29 15:59:59.999        3.605702e+07   20683         4395.9200   \n",
       "3 2021-12-29 16:59:59.999        3.658612e+07   26369         4732.8865   \n",
       "4 2021-12-29 17:59:59.999        3.553895e+07   24097         4706.9848   \n",
       "\n",
       "   Taker_buy_asset_volume  Return  Open_norm  High_norm  Low_norm  Close_norm  \\\n",
       "0            1.382078e+07   False   1.423446   1.378793  1.393171    1.388481   \n",
       "1            1.282904e+07   False   1.382585   1.323137  1.311628    1.274555   \n",
       "2            1.653329e+07   False   1.268767   1.293588  1.296985    1.271467   \n",
       "3            1.766420e+07   False   1.265642   1.212550  1.175295    1.164823   \n",
       "4            1.763012e+07   False   1.159067   1.261020  1.195085    1.243138   \n",
       "\n",
       "   Quote_Asset_Volume_norm  Trades_norm  Taker_buy_Volume_norm  \\\n",
       "0                -0.411326    -0.364551              -0.524783   \n",
       "1                -0.480995    -0.464247              -0.567847   \n",
       "2                -0.245845    -0.397683              -0.394972   \n",
       "3                -0.231935    -0.114813              -0.336119   \n",
       "4                -0.259464    -0.227842              -0.340643   \n",
       "\n",
       "   Taker_buy_asset_volume_norm  \n",
       "0                    -0.467440  \n",
       "1                    -0.521440  \n",
       "2                    -0.319744  \n",
       "3                    -0.258166  \n",
       "4                    -0.260022  "
      ]
     },
     "execution_count": 12,
     "metadata": {},
     "output_type": "execute_result"
    }
   ],
   "source": [
    "data.head()"
   ]
  },
  {
   "cell_type": "code",
   "execution_count": 13,
   "metadata": {},
   "outputs": [],
   "source": [
    "data_model = data[(['Open_Time','Close_Time','Open_norm',\n",
    "                  'High_norm','Low_norm','Close_norm','Trades_norm',\n",
    "                    'Taker_buy_Volume_norm','Taker_buy_asset_volume_norm',\n",
    "                   'Return'])]"
   ]
  },
  {
   "cell_type": "code",
   "execution_count": 14,
   "metadata": {},
   "outputs": [
    {
     "data": {
      "text/html": [
       "<div>\n",
       "<style scoped>\n",
       "    .dataframe tbody tr th:only-of-type {\n",
       "        vertical-align: middle;\n",
       "    }\n",
       "\n",
       "    .dataframe tbody tr th {\n",
       "        vertical-align: top;\n",
       "    }\n",
       "\n",
       "    .dataframe thead th {\n",
       "        text-align: right;\n",
       "    }\n",
       "</style>\n",
       "<table border=\"1\" class=\"dataframe\">\n",
       "  <thead>\n",
       "    <tr style=\"text-align: right;\">\n",
       "      <th></th>\n",
       "      <th>Open_Time</th>\n",
       "      <th>Close_Time</th>\n",
       "      <th>Open_norm</th>\n",
       "      <th>High_norm</th>\n",
       "      <th>Low_norm</th>\n",
       "      <th>Close_norm</th>\n",
       "      <th>Trades_norm</th>\n",
       "      <th>Taker_buy_Volume_norm</th>\n",
       "      <th>Taker_buy_asset_volume_norm</th>\n",
       "      <th>Return</th>\n",
       "    </tr>\n",
       "  </thead>\n",
       "  <tbody>\n",
       "    <tr>\n",
       "      <th>0</th>\n",
       "      <td>2021-12-29 13:00:00</td>\n",
       "      <td>2021-12-29 13:59:59.999</td>\n",
       "      <td>1.423446</td>\n",
       "      <td>1.378793</td>\n",
       "      <td>1.393171</td>\n",
       "      <td>1.388481</td>\n",
       "      <td>-0.364551</td>\n",
       "      <td>-0.524783</td>\n",
       "      <td>-0.467440</td>\n",
       "      <td>False</td>\n",
       "    </tr>\n",
       "    <tr>\n",
       "      <th>1</th>\n",
       "      <td>2021-12-29 14:00:00</td>\n",
       "      <td>2021-12-29 14:59:59.999</td>\n",
       "      <td>1.382585</td>\n",
       "      <td>1.323137</td>\n",
       "      <td>1.311628</td>\n",
       "      <td>1.274555</td>\n",
       "      <td>-0.464247</td>\n",
       "      <td>-0.567847</td>\n",
       "      <td>-0.521440</td>\n",
       "      <td>False</td>\n",
       "    </tr>\n",
       "    <tr>\n",
       "      <th>2</th>\n",
       "      <td>2021-12-29 15:00:00</td>\n",
       "      <td>2021-12-29 15:59:59.999</td>\n",
       "      <td>1.268767</td>\n",
       "      <td>1.293588</td>\n",
       "      <td>1.296985</td>\n",
       "      <td>1.271467</td>\n",
       "      <td>-0.397683</td>\n",
       "      <td>-0.394972</td>\n",
       "      <td>-0.319744</td>\n",
       "      <td>False</td>\n",
       "    </tr>\n",
       "    <tr>\n",
       "      <th>3</th>\n",
       "      <td>2021-12-29 16:00:00</td>\n",
       "      <td>2021-12-29 16:59:59.999</td>\n",
       "      <td>1.265642</td>\n",
       "      <td>1.212550</td>\n",
       "      <td>1.175295</td>\n",
       "      <td>1.164823</td>\n",
       "      <td>-0.114813</td>\n",
       "      <td>-0.336119</td>\n",
       "      <td>-0.258166</td>\n",
       "      <td>False</td>\n",
       "    </tr>\n",
       "    <tr>\n",
       "      <th>4</th>\n",
       "      <td>2021-12-29 17:00:00</td>\n",
       "      <td>2021-12-29 17:59:59.999</td>\n",
       "      <td>1.159067</td>\n",
       "      <td>1.261020</td>\n",
       "      <td>1.195085</td>\n",
       "      <td>1.243138</td>\n",
       "      <td>-0.227842</td>\n",
       "      <td>-0.340643</td>\n",
       "      <td>-0.260022</td>\n",
       "      <td>False</td>\n",
       "    </tr>\n",
       "  </tbody>\n",
       "</table>\n",
       "</div>"
      ],
      "text/plain": [
       "            Open_Time              Close_Time  Open_norm  High_norm  Low_norm  \\\n",
       "0 2021-12-29 13:00:00 2021-12-29 13:59:59.999   1.423446   1.378793  1.393171   \n",
       "1 2021-12-29 14:00:00 2021-12-29 14:59:59.999   1.382585   1.323137  1.311628   \n",
       "2 2021-12-29 15:00:00 2021-12-29 15:59:59.999   1.268767   1.293588  1.296985   \n",
       "3 2021-12-29 16:00:00 2021-12-29 16:59:59.999   1.265642   1.212550  1.175295   \n",
       "4 2021-12-29 17:00:00 2021-12-29 17:59:59.999   1.159067   1.261020  1.195085   \n",
       "\n",
       "   Close_norm  Trades_norm  Taker_buy_Volume_norm  \\\n",
       "0    1.388481    -0.364551              -0.524783   \n",
       "1    1.274555    -0.464247              -0.567847   \n",
       "2    1.271467    -0.397683              -0.394972   \n",
       "3    1.164823    -0.114813              -0.336119   \n",
       "4    1.243138    -0.227842              -0.340643   \n",
       "\n",
       "   Taker_buy_asset_volume_norm  Return  \n",
       "0                    -0.467440   False  \n",
       "1                    -0.521440   False  \n",
       "2                    -0.319744   False  \n",
       "3                    -0.258166   False  \n",
       "4                    -0.260022   False  "
      ]
     },
     "execution_count": 14,
     "metadata": {},
     "output_type": "execute_result"
    }
   ],
   "source": [
    "data_model.head()"
   ]
  },
  {
   "cell_type": "code",
   "execution_count": 15,
   "metadata": {},
   "outputs": [],
   "source": [
    "pd.options.display.max_columns = None"
   ]
  },
  {
   "cell_type": "code",
   "execution_count": 16,
   "metadata": {
    "scrolled": true
   },
   "outputs": [
    {
     "name": "stdout",
     "output_type": "stream",
     "text": [
      "GO\n"
     ]
    }
   ],
   "source": [
    "#separando en train y test\n",
    "train, test = train_test_split(data_model, test_size = .2 , random_state = random.randint(1,10))\n",
    "\n",
    "if test['Return'].sum() == 0:\n",
    "    train, test = train_test_split(data_model, test_size = .2 , random_state = random.randint(1,10))\n",
    "else:\n",
    "    print('GO')\n",
    "\n",
    "#Sacando la columna con DriverID, la del target (Churn) y la del mes\n",
    "Open = ['Open_Time']\n",
    "Close = ['Close_Time']\n",
    "target_col = ['Return']\n",
    "cols    = [i for i in data_model.columns if i not in Open + Close + target_col]\n",
    "train_X = train[cols]\n",
    "train_Y = train[target_col]\n",
    "test_X  = test[cols]\n",
    "test_Y  = test[target_col]"
   ]
  },
  {
   "cell_type": "code",
   "execution_count": 17,
   "metadata": {},
   "outputs": [],
   "source": [
    "#Function attributes#\n",
    "\n",
    "#dataframe     - processed dataframe\n",
    "#Algorithm     - Algorithm used \n",
    "#training_x    - predictor variables dataframe(training)\n",
    "#testing_x     - predictor variables dataframe(testing)\n",
    "#training_y    - target variable(training)\n",
    "#training_y    - target variable(testing)\n",
    "#cf - [\"coefficients\",\"features\"](cooefficients for logistic regression, features for tree based models)\n",
    "#threshold_plot - if True returns threshold plot for model\n",
    "\n",
    "def churn_prediction(algorithm, training_x, testing_x, training_y, testing_y, cols, cf, threshold_plot) :\n",
    "    \n",
    "    #model\n",
    "    algorithm.fit(training_x, training_y)\n",
    "    predictions   = algorithm.predict(testing_x)\n",
    "    probabilities = algorithm.predict_proba(testing_x)\n",
    "    \n",
    "    #coeffs\n",
    "    if   cf == \"coefficients\" :\n",
    "        coefficients  = pd.DataFrame(algorithm.coef_.ravel())\n",
    "    elif cf == \"features\" :\n",
    "        coefficients  = pd.DataFrame(algorithm.feature_importances_)\n",
    "        \n",
    "    column_df     = pd.DataFrame(cols)\n",
    "    coef_sumry    = (pd.merge(coefficients, column_df, left_index= True, right_index= True, how = \"left\"))\n",
    "    coef_sumry.columns = [\"coefficients\", \"features\"]\n",
    "    coef_sumry    = coef_sumry.sort_values(by = \"coefficients\", ascending = False)\n",
    "    \n",
    "    print (algorithm)\n",
    "    print (\"\\n Classification report : \\n\",classification_report(testing_y, predictions))\n",
    "    print (\"Accuracy   Score : \",accuracy_score(testing_y, predictions))\n",
    "    \n",
    "    #confusion matrix, en el eje x van los reales y en el eje y los que predice el algoritmo\n",
    "    conf_matrix = confusion_matrix(testing_y, predictions)\n",
    "    \n",
    "    #roc_auc_score\n",
    "    model_roc_auc = roc_auc_score(testing_y, predictions) \n",
    "    print (\"Area under curve (AUC) : \",model_roc_auc,\"\\n\")\n",
    "    fpr,tpr,thresholds = roc_curve(testing_y,probabilities[:,1])\n",
    "    \n",
    "    #plot confusion matrix\n",
    "    trace1 = go.Heatmap(z = conf_matrix ,\n",
    "                        x = [\"False\",\"True\"],\n",
    "                        y = [\"False\",\"True\"],\n",
    "                        showscale  = False,colorscale = \"Picnic\",\n",
    "                        name = \"matrix\")\n",
    "    \n",
    "    #plot roc curve\n",
    "    trace2 = go.Scatter(x = fpr,y = tpr,\n",
    "                        name = \"Roc : \" + str(model_roc_auc),\n",
    "                        line = dict(color = ('rgb(22, 96, 167)'), width = 2))\n",
    "    trace3 = go.Scatter(x = [0,1],y=[0,1],\n",
    "                        line = dict(color = ('rgb(205, 12, 24)'), width = 2,\n",
    "                        dash = 'dot'))\n",
    "    \n",
    "    #plot coeffs\n",
    "    trace4 = go.Bar(x = coef_sumry[\"features\"], y = coef_sumry[\"coefficients\"],\n",
    "                    name = \"coefficients\",\n",
    "                    marker = dict(color = coef_sumry[\"coefficients\"],\n",
    "                                  colorscale = \"Picnic\",\n",
    "                                  line = dict(width = .6,color = \"black\")))\n",
    "    \n",
    "    #subplots\n",
    "    fig = tls.make_subplots(rows=2, cols=2, specs=[[{}, {}], [{'colspan': 2}, None]],\n",
    "                            subplot_titles=('Confusion Matrix',\n",
    "                                            'Receiver operating characteristic',\n",
    "                                            'Feature Importances'))\n",
    "    \n",
    "    fig.append_trace(trace1,1,1)\n",
    "    fig.append_trace(trace2,1,2)\n",
    "    fig.append_trace(trace3,1,2)\n",
    "    fig.append_trace(trace4,2,1)\n",
    "    \n",
    "    fig['layout'].update(showlegend=False, title=\"Model performance\" ,\n",
    "                         autosize = False,height = 900,width = 800,\n",
    "                         plot_bgcolor = 'rgba(240,240,240, 0.95)',\n",
    "                         paper_bgcolor = 'rgba(240,240,240, 0.95)',\n",
    "                         margin = dict(b = 195))\n",
    "    \n",
    "    fig[\"layout\"][\"xaxis2\"].update(dict(title = \"false positive rate\"))\n",
    "    fig[\"layout\"][\"yaxis2\"].update(dict(title = \"true positive rate\"))\n",
    "    fig[\"layout\"][\"xaxis3\"].update(dict(showgrid = True, tickfont = dict(size = 10),\n",
    "                                        tickangle = 90))\n",
    "    py.iplot(fig)\n",
    "    \n",
    "    if threshold_plot == True : \n",
    "        visualizer = DiscriminationThreshold(algorithm)\n",
    "        visualizer.fit(training_x,training_y)\n",
    "        visualizer.poof()"
   ]
  },
  {
   "cell_type": "markdown",
   "metadata": {},
   "source": [
    "### 4. RANDOM FOREST"
   ]
  },
  {
   "cell_type": "markdown",
   "metadata": {},
   "source": [
    "Es un conjunto de arboles de decisión. Uno de los requisitos es que las features sean independientes entre sí o que tengan una correlación muy baja. Tengo que ver de corregir esto..."
   ]
  },
  {
   "cell_type": "code",
   "execution_count": 18,
   "metadata": {},
   "outputs": [],
   "source": [
    "from sklearn.ensemble import RandomForestClassifier"
   ]
  },
  {
   "cell_type": "code",
   "execution_count": 19,
   "metadata": {},
   "outputs": [],
   "source": [
    "#function attributes\n",
    "#columns  - column used\n",
    "#nf_estimators   - The number of trees in the forest.\n",
    "#estimated_tree  - tree number to be displayed\n",
    "#maximum_depth   - depth of the tree\n",
    "#criterion_type  - split criterion type [\"gini\" or \"entropy\"]\n",
    "#Model performance - prints performance of model\n",
    "\n",
    "def plot_tree_randomforest(columns,nf_estimators,maximum_depth,\n",
    "                           criterion_type,model_performance = None) :\n",
    "    \n",
    "    df = data_model[columns + target_col].copy()\n",
    "    \n",
    "    #train and test datasets\n",
    "    rf_x     = df[[i for i in columns if i not in target_col + Open + Close]]\n",
    "    rf_y     = df[target_col]\n",
    "    \n",
    "    #random forest classifier\n",
    "    rfc   = RandomForestClassifier(n_estimators = nf_estimators,\n",
    "                                   max_depth = maximum_depth,\n",
    "                                   criterion = criterion_type)\n",
    "    rfc.fit(rf_x,rf_y)\n",
    "    \n",
    "    if model_performance == True :\n",
    "        churn_prediction(rfc, rf_x, test_X[columns], rf_y, test_Y, columns,\"features\",threshold_plot = False)\n",
    "        \n",
    "    return rfc"
   ]
  },
  {
   "cell_type": "code",
   "execution_count": 20,
   "metadata": {
    "scrolled": false
   },
   "outputs": [
    {
     "name": "stdout",
     "output_type": "stream",
     "text": [
      "RandomForestClassifier(criterion='entropy', max_depth=9, n_estimators=1000)\n",
      "\n",
      " Classification report : \n",
      "               precision    recall  f1-score   support\n",
      "\n",
      "       False       1.00      1.00      1.00        97\n",
      "        True       1.00      1.00      1.00         3\n",
      "\n",
      "    accuracy                           1.00       100\n",
      "   macro avg       1.00      1.00      1.00       100\n",
      "weighted avg       1.00      1.00      1.00       100\n",
      "\n",
      "Accuracy   Score :  1.0\n",
      "Area under curve (AUC) :  1.0 \n",
      "\n"
     ]
    },
    {
     "data": {
      "application/vnd.plotly.v1+json": {
       "config": {
        "linkText": "Export to plot.ly",
        "plotlyServerURL": "https://plot.ly",
        "showLink": false
       },
       "data": [
        {
         "colorscale": [
          [
           0,
           "rgb(0,0,255)"
          ],
          [
           0.1,
           "rgb(51,153,255)"
          ],
          [
           0.2,
           "rgb(102,204,255)"
          ],
          [
           0.3,
           "rgb(153,204,255)"
          ],
          [
           0.4,
           "rgb(204,204,255)"
          ],
          [
           0.5,
           "rgb(255,255,255)"
          ],
          [
           0.6,
           "rgb(255,204,255)"
          ],
          [
           0.7,
           "rgb(255,153,255)"
          ],
          [
           0.8,
           "rgb(255,102,204)"
          ],
          [
           0.9,
           "rgb(255,102,102)"
          ],
          [
           1,
           "rgb(255,0,0)"
          ]
         ],
         "name": "matrix",
         "showscale": false,
         "type": "heatmap",
         "x": [
          "False",
          "True"
         ],
         "xaxis": "x",
         "y": [
          "False",
          "True"
         ],
         "yaxis": "y",
         "z": [
          [
           97,
           0
          ],
          [
           0,
           3
          ]
         ]
        },
        {
         "line": {
          "color": "rgb(22, 96, 167)",
          "width": 2
         },
         "name": "Roc : 1.0",
         "type": "scatter",
         "x": [
          0,
          0,
          0,
          0.05154639175257732,
          0.07216494845360824,
          0.1134020618556701,
          0.17525773195876287,
          0.2268041237113402,
          0.23711340206185566,
          0.30927835051546393,
          1
         ],
         "xaxis": "x2",
         "y": [
          0,
          0.3333333333333333,
          1,
          1,
          1,
          1,
          1,
          1,
          1,
          1,
          1
         ],
         "yaxis": "y2"
        },
        {
         "line": {
          "color": "rgb(205, 12, 24)",
          "dash": "dot",
          "width": 2
         },
         "type": "scatter",
         "x": [
          0,
          1
         ],
         "xaxis": "x2",
         "y": [
          0,
          1
         ],
         "yaxis": "y2"
        },
        {
         "marker": {
          "color": [
           0.17571419013052914,
           0.15181779343879737,
           0.14484273615160723,
           0.14277889982563352,
           0.1364709188296095,
           0.13052229398656262,
           0.11785316763726061
          ],
          "colorscale": [
           [
            0,
            "rgb(0,0,255)"
           ],
           [
            0.1,
            "rgb(51,153,255)"
           ],
           [
            0.2,
            "rgb(102,204,255)"
           ],
           [
            0.3,
            "rgb(153,204,255)"
           ],
           [
            0.4,
            "rgb(204,204,255)"
           ],
           [
            0.5,
            "rgb(255,255,255)"
           ],
           [
            0.6,
            "rgb(255,204,255)"
           ],
           [
            0.7,
            "rgb(255,153,255)"
           ],
           [
            0.8,
            "rgb(255,102,204)"
           ],
           [
            0.9,
            "rgb(255,102,102)"
           ],
           [
            1,
            "rgb(255,0,0)"
           ]
          ],
          "line": {
           "color": "black",
           "width": 0.6
          }
         },
         "name": "coefficients",
         "type": "bar",
         "x": [
          "High_norm",
          "Close_norm",
          "Low_norm",
          "Taker_buy_Volume_norm",
          "Open_norm",
          "Trades_norm",
          "Taker_buy_asset_volume_norm"
         ],
         "xaxis": "x3",
         "y": [
          0.17571419013052914,
          0.15181779343879737,
          0.14484273615160723,
          0.14277889982563352,
          0.1364709188296095,
          0.13052229398656262,
          0.11785316763726061
         ],
         "yaxis": "y3"
        }
       ],
       "layout": {
        "annotations": [
         {
          "font": {
           "size": 16
          },
          "showarrow": false,
          "text": "Confusion Matrix",
          "x": 0.225,
          "xanchor": "center",
          "xref": "paper",
          "y": 1,
          "yanchor": "bottom",
          "yref": "paper"
         },
         {
          "font": {
           "size": 16
          },
          "showarrow": false,
          "text": "Receiver operating characteristic",
          "x": 0.775,
          "xanchor": "center",
          "xref": "paper",
          "y": 1,
          "yanchor": "bottom",
          "yref": "paper"
         },
         {
          "font": {
           "size": 16
          },
          "showarrow": false,
          "text": "Feature Importances",
          "x": 0.5,
          "xanchor": "center",
          "xref": "paper",
          "y": 0.375,
          "yanchor": "bottom",
          "yref": "paper"
         }
        ],
        "autosize": false,
        "height": 900,
        "margin": {
         "b": 195
        },
        "paper_bgcolor": "rgba(240,240,240, 0.95)",
        "plot_bgcolor": "rgba(240,240,240, 0.95)",
        "showlegend": false,
        "template": {
         "data": {
          "bar": [
           {
            "error_x": {
             "color": "#2a3f5f"
            },
            "error_y": {
             "color": "#2a3f5f"
            },
            "marker": {
             "line": {
              "color": "#E5ECF6",
              "width": 0.5
             },
             "pattern": {
              "fillmode": "overlay",
              "size": 10,
              "solidity": 0.2
             }
            },
            "type": "bar"
           }
          ],
          "barpolar": [
           {
            "marker": {
             "line": {
              "color": "#E5ECF6",
              "width": 0.5
             },
             "pattern": {
              "fillmode": "overlay",
              "size": 10,
              "solidity": 0.2
             }
            },
            "type": "barpolar"
           }
          ],
          "carpet": [
           {
            "aaxis": {
             "endlinecolor": "#2a3f5f",
             "gridcolor": "white",
             "linecolor": "white",
             "minorgridcolor": "white",
             "startlinecolor": "#2a3f5f"
            },
            "baxis": {
             "endlinecolor": "#2a3f5f",
             "gridcolor": "white",
             "linecolor": "white",
             "minorgridcolor": "white",
             "startlinecolor": "#2a3f5f"
            },
            "type": "carpet"
           }
          ],
          "choropleth": [
           {
            "colorbar": {
             "outlinewidth": 0,
             "ticks": ""
            },
            "type": "choropleth"
           }
          ],
          "contour": [
           {
            "colorbar": {
             "outlinewidth": 0,
             "ticks": ""
            },
            "colorscale": [
             [
              0,
              "#0d0887"
             ],
             [
              0.1111111111111111,
              "#46039f"
             ],
             [
              0.2222222222222222,
              "#7201a8"
             ],
             [
              0.3333333333333333,
              "#9c179e"
             ],
             [
              0.4444444444444444,
              "#bd3786"
             ],
             [
              0.5555555555555556,
              "#d8576b"
             ],
             [
              0.6666666666666666,
              "#ed7953"
             ],
             [
              0.7777777777777778,
              "#fb9f3a"
             ],
             [
              0.8888888888888888,
              "#fdca26"
             ],
             [
              1,
              "#f0f921"
             ]
            ],
            "type": "contour"
           }
          ],
          "contourcarpet": [
           {
            "colorbar": {
             "outlinewidth": 0,
             "ticks": ""
            },
            "type": "contourcarpet"
           }
          ],
          "heatmap": [
           {
            "colorbar": {
             "outlinewidth": 0,
             "ticks": ""
            },
            "colorscale": [
             [
              0,
              "#0d0887"
             ],
             [
              0.1111111111111111,
              "#46039f"
             ],
             [
              0.2222222222222222,
              "#7201a8"
             ],
             [
              0.3333333333333333,
              "#9c179e"
             ],
             [
              0.4444444444444444,
              "#bd3786"
             ],
             [
              0.5555555555555556,
              "#d8576b"
             ],
             [
              0.6666666666666666,
              "#ed7953"
             ],
             [
              0.7777777777777778,
              "#fb9f3a"
             ],
             [
              0.8888888888888888,
              "#fdca26"
             ],
             [
              1,
              "#f0f921"
             ]
            ],
            "type": "heatmap"
           }
          ],
          "heatmapgl": [
           {
            "colorbar": {
             "outlinewidth": 0,
             "ticks": ""
            },
            "colorscale": [
             [
              0,
              "#0d0887"
             ],
             [
              0.1111111111111111,
              "#46039f"
             ],
             [
              0.2222222222222222,
              "#7201a8"
             ],
             [
              0.3333333333333333,
              "#9c179e"
             ],
             [
              0.4444444444444444,
              "#bd3786"
             ],
             [
              0.5555555555555556,
              "#d8576b"
             ],
             [
              0.6666666666666666,
              "#ed7953"
             ],
             [
              0.7777777777777778,
              "#fb9f3a"
             ],
             [
              0.8888888888888888,
              "#fdca26"
             ],
             [
              1,
              "#f0f921"
             ]
            ],
            "type": "heatmapgl"
           }
          ],
          "histogram": [
           {
            "marker": {
             "pattern": {
              "fillmode": "overlay",
              "size": 10,
              "solidity": 0.2
             }
            },
            "type": "histogram"
           }
          ],
          "histogram2d": [
           {
            "colorbar": {
             "outlinewidth": 0,
             "ticks": ""
            },
            "colorscale": [
             [
              0,
              "#0d0887"
             ],
             [
              0.1111111111111111,
              "#46039f"
             ],
             [
              0.2222222222222222,
              "#7201a8"
             ],
             [
              0.3333333333333333,
              "#9c179e"
             ],
             [
              0.4444444444444444,
              "#bd3786"
             ],
             [
              0.5555555555555556,
              "#d8576b"
             ],
             [
              0.6666666666666666,
              "#ed7953"
             ],
             [
              0.7777777777777778,
              "#fb9f3a"
             ],
             [
              0.8888888888888888,
              "#fdca26"
             ],
             [
              1,
              "#f0f921"
             ]
            ],
            "type": "histogram2d"
           }
          ],
          "histogram2dcontour": [
           {
            "colorbar": {
             "outlinewidth": 0,
             "ticks": ""
            },
            "colorscale": [
             [
              0,
              "#0d0887"
             ],
             [
              0.1111111111111111,
              "#46039f"
             ],
             [
              0.2222222222222222,
              "#7201a8"
             ],
             [
              0.3333333333333333,
              "#9c179e"
             ],
             [
              0.4444444444444444,
              "#bd3786"
             ],
             [
              0.5555555555555556,
              "#d8576b"
             ],
             [
              0.6666666666666666,
              "#ed7953"
             ],
             [
              0.7777777777777778,
              "#fb9f3a"
             ],
             [
              0.8888888888888888,
              "#fdca26"
             ],
             [
              1,
              "#f0f921"
             ]
            ],
            "type": "histogram2dcontour"
           }
          ],
          "mesh3d": [
           {
            "colorbar": {
             "outlinewidth": 0,
             "ticks": ""
            },
            "type": "mesh3d"
           }
          ],
          "parcoords": [
           {
            "line": {
             "colorbar": {
              "outlinewidth": 0,
              "ticks": ""
             }
            },
            "type": "parcoords"
           }
          ],
          "pie": [
           {
            "automargin": true,
            "type": "pie"
           }
          ],
          "scatter": [
           {
            "marker": {
             "colorbar": {
              "outlinewidth": 0,
              "ticks": ""
             }
            },
            "type": "scatter"
           }
          ],
          "scatter3d": [
           {
            "line": {
             "colorbar": {
              "outlinewidth": 0,
              "ticks": ""
             }
            },
            "marker": {
             "colorbar": {
              "outlinewidth": 0,
              "ticks": ""
             }
            },
            "type": "scatter3d"
           }
          ],
          "scattercarpet": [
           {
            "marker": {
             "colorbar": {
              "outlinewidth": 0,
              "ticks": ""
             }
            },
            "type": "scattercarpet"
           }
          ],
          "scattergeo": [
           {
            "marker": {
             "colorbar": {
              "outlinewidth": 0,
              "ticks": ""
             }
            },
            "type": "scattergeo"
           }
          ],
          "scattergl": [
           {
            "marker": {
             "colorbar": {
              "outlinewidth": 0,
              "ticks": ""
             }
            },
            "type": "scattergl"
           }
          ],
          "scattermapbox": [
           {
            "marker": {
             "colorbar": {
              "outlinewidth": 0,
              "ticks": ""
             }
            },
            "type": "scattermapbox"
           }
          ],
          "scatterpolar": [
           {
            "marker": {
             "colorbar": {
              "outlinewidth": 0,
              "ticks": ""
             }
            },
            "type": "scatterpolar"
           }
          ],
          "scatterpolargl": [
           {
            "marker": {
             "colorbar": {
              "outlinewidth": 0,
              "ticks": ""
             }
            },
            "type": "scatterpolargl"
           }
          ],
          "scatterternary": [
           {
            "marker": {
             "colorbar": {
              "outlinewidth": 0,
              "ticks": ""
             }
            },
            "type": "scatterternary"
           }
          ],
          "surface": [
           {
            "colorbar": {
             "outlinewidth": 0,
             "ticks": ""
            },
            "colorscale": [
             [
              0,
              "#0d0887"
             ],
             [
              0.1111111111111111,
              "#46039f"
             ],
             [
              0.2222222222222222,
              "#7201a8"
             ],
             [
              0.3333333333333333,
              "#9c179e"
             ],
             [
              0.4444444444444444,
              "#bd3786"
             ],
             [
              0.5555555555555556,
              "#d8576b"
             ],
             [
              0.6666666666666666,
              "#ed7953"
             ],
             [
              0.7777777777777778,
              "#fb9f3a"
             ],
             [
              0.8888888888888888,
              "#fdca26"
             ],
             [
              1,
              "#f0f921"
             ]
            ],
            "type": "surface"
           }
          ],
          "table": [
           {
            "cells": {
             "fill": {
              "color": "#EBF0F8"
             },
             "line": {
              "color": "white"
             }
            },
            "header": {
             "fill": {
              "color": "#C8D4E3"
             },
             "line": {
              "color": "white"
             }
            },
            "type": "table"
           }
          ]
         },
         "layout": {
          "annotationdefaults": {
           "arrowcolor": "#2a3f5f",
           "arrowhead": 0,
           "arrowwidth": 1
          },
          "autotypenumbers": "strict",
          "coloraxis": {
           "colorbar": {
            "outlinewidth": 0,
            "ticks": ""
           }
          },
          "colorscale": {
           "diverging": [
            [
             0,
             "#8e0152"
            ],
            [
             0.1,
             "#c51b7d"
            ],
            [
             0.2,
             "#de77ae"
            ],
            [
             0.3,
             "#f1b6da"
            ],
            [
             0.4,
             "#fde0ef"
            ],
            [
             0.5,
             "#f7f7f7"
            ],
            [
             0.6,
             "#e6f5d0"
            ],
            [
             0.7,
             "#b8e186"
            ],
            [
             0.8,
             "#7fbc41"
            ],
            [
             0.9,
             "#4d9221"
            ],
            [
             1,
             "#276419"
            ]
           ],
           "sequential": [
            [
             0,
             "#0d0887"
            ],
            [
             0.1111111111111111,
             "#46039f"
            ],
            [
             0.2222222222222222,
             "#7201a8"
            ],
            [
             0.3333333333333333,
             "#9c179e"
            ],
            [
             0.4444444444444444,
             "#bd3786"
            ],
            [
             0.5555555555555556,
             "#d8576b"
            ],
            [
             0.6666666666666666,
             "#ed7953"
            ],
            [
             0.7777777777777778,
             "#fb9f3a"
            ],
            [
             0.8888888888888888,
             "#fdca26"
            ],
            [
             1,
             "#f0f921"
            ]
           ],
           "sequentialminus": [
            [
             0,
             "#0d0887"
            ],
            [
             0.1111111111111111,
             "#46039f"
            ],
            [
             0.2222222222222222,
             "#7201a8"
            ],
            [
             0.3333333333333333,
             "#9c179e"
            ],
            [
             0.4444444444444444,
             "#bd3786"
            ],
            [
             0.5555555555555556,
             "#d8576b"
            ],
            [
             0.6666666666666666,
             "#ed7953"
            ],
            [
             0.7777777777777778,
             "#fb9f3a"
            ],
            [
             0.8888888888888888,
             "#fdca26"
            ],
            [
             1,
             "#f0f921"
            ]
           ]
          },
          "colorway": [
           "#636efa",
           "#EF553B",
           "#00cc96",
           "#ab63fa",
           "#FFA15A",
           "#19d3f3",
           "#FF6692",
           "#B6E880",
           "#FF97FF",
           "#FECB52"
          ],
          "font": {
           "color": "#2a3f5f"
          },
          "geo": {
           "bgcolor": "white",
           "lakecolor": "white",
           "landcolor": "#E5ECF6",
           "showlakes": true,
           "showland": true,
           "subunitcolor": "white"
          },
          "hoverlabel": {
           "align": "left"
          },
          "hovermode": "closest",
          "mapbox": {
           "style": "light"
          },
          "paper_bgcolor": "white",
          "plot_bgcolor": "#E5ECF6",
          "polar": {
           "angularaxis": {
            "gridcolor": "white",
            "linecolor": "white",
            "ticks": ""
           },
           "bgcolor": "#E5ECF6",
           "radialaxis": {
            "gridcolor": "white",
            "linecolor": "white",
            "ticks": ""
           }
          },
          "scene": {
           "xaxis": {
            "backgroundcolor": "#E5ECF6",
            "gridcolor": "white",
            "gridwidth": 2,
            "linecolor": "white",
            "showbackground": true,
            "ticks": "",
            "zerolinecolor": "white"
           },
           "yaxis": {
            "backgroundcolor": "#E5ECF6",
            "gridcolor": "white",
            "gridwidth": 2,
            "linecolor": "white",
            "showbackground": true,
            "ticks": "",
            "zerolinecolor": "white"
           },
           "zaxis": {
            "backgroundcolor": "#E5ECF6",
            "gridcolor": "white",
            "gridwidth": 2,
            "linecolor": "white",
            "showbackground": true,
            "ticks": "",
            "zerolinecolor": "white"
           }
          },
          "shapedefaults": {
           "line": {
            "color": "#2a3f5f"
           }
          },
          "ternary": {
           "aaxis": {
            "gridcolor": "white",
            "linecolor": "white",
            "ticks": ""
           },
           "baxis": {
            "gridcolor": "white",
            "linecolor": "white",
            "ticks": ""
           },
           "bgcolor": "#E5ECF6",
           "caxis": {
            "gridcolor": "white",
            "linecolor": "white",
            "ticks": ""
           }
          },
          "title": {
           "x": 0.05
          },
          "xaxis": {
           "automargin": true,
           "gridcolor": "white",
           "linecolor": "white",
           "ticks": "",
           "title": {
            "standoff": 15
           },
           "zerolinecolor": "white",
           "zerolinewidth": 2
          },
          "yaxis": {
           "automargin": true,
           "gridcolor": "white",
           "linecolor": "white",
           "ticks": "",
           "title": {
            "standoff": 15
           },
           "zerolinecolor": "white",
           "zerolinewidth": 2
          }
         }
        },
        "title": {
         "text": "Model performance"
        },
        "width": 800,
        "xaxis": {
         "anchor": "y",
         "domain": [
          0,
          0.45
         ]
        },
        "xaxis2": {
         "anchor": "y2",
         "domain": [
          0.55,
          1
         ],
         "title": {
          "text": "false positive rate"
         }
        },
        "xaxis3": {
         "anchor": "y3",
         "domain": [
          0,
          1
         ],
         "showgrid": true,
         "tickangle": 90,
         "tickfont": {
          "size": 10
         }
        },
        "yaxis": {
         "anchor": "x",
         "domain": [
          0.625,
          1
         ]
        },
        "yaxis2": {
         "anchor": "x2",
         "domain": [
          0.625,
          1
         ],
         "title": {
          "text": "true positive rate"
         }
        },
        "yaxis3": {
         "anchor": "x3",
         "domain": [
          0,
          0.375
         ]
        }
       }
      },
      "text/html": [
       "<div>                            <div id=\"fc5cb442-2510-407e-a166-93c0a702d8c8\" class=\"plotly-graph-div\" style=\"height:900px; width:800px;\"></div>            <script type=\"text/javascript\">                require([\"plotly\"], function(Plotly) {                    window.PLOTLYENV=window.PLOTLYENV || {};                                    if (document.getElementById(\"fc5cb442-2510-407e-a166-93c0a702d8c8\")) {                    Plotly.newPlot(                        \"fc5cb442-2510-407e-a166-93c0a702d8c8\",                        [{\"colorscale\":[[0.0,\"rgb(0,0,255)\"],[0.1,\"rgb(51,153,255)\"],[0.2,\"rgb(102,204,255)\"],[0.3,\"rgb(153,204,255)\"],[0.4,\"rgb(204,204,255)\"],[0.5,\"rgb(255,255,255)\"],[0.6,\"rgb(255,204,255)\"],[0.7,\"rgb(255,153,255)\"],[0.8,\"rgb(255,102,204)\"],[0.9,\"rgb(255,102,102)\"],[1.0,\"rgb(255,0,0)\"]],\"name\":\"matrix\",\"showscale\":false,\"type\":\"heatmap\",\"x\":[\"False\",\"True\"],\"xaxis\":\"x\",\"y\":[\"False\",\"True\"],\"yaxis\":\"y\",\"z\":[[97,0],[0,3]]},{\"line\":{\"color\":\"rgb(22, 96, 167)\",\"width\":2},\"name\":\"Roc : 1.0\",\"type\":\"scatter\",\"x\":[0.0,0.0,0.0,0.05154639175257732,0.07216494845360824,0.1134020618556701,0.17525773195876287,0.2268041237113402,0.23711340206185566,0.30927835051546393,1.0],\"xaxis\":\"x2\",\"y\":[0.0,0.3333333333333333,1.0,1.0,1.0,1.0,1.0,1.0,1.0,1.0,1.0],\"yaxis\":\"y2\"},{\"line\":{\"color\":\"rgb(205, 12, 24)\",\"dash\":\"dot\",\"width\":2},\"type\":\"scatter\",\"x\":[0,1],\"xaxis\":\"x2\",\"y\":[0,1],\"yaxis\":\"y2\"},{\"marker\":{\"color\":[0.17571419013052914,0.15181779343879737,0.14484273615160723,0.14277889982563352,0.1364709188296095,0.13052229398656262,0.11785316763726061],\"colorscale\":[[0.0,\"rgb(0,0,255)\"],[0.1,\"rgb(51,153,255)\"],[0.2,\"rgb(102,204,255)\"],[0.3,\"rgb(153,204,255)\"],[0.4,\"rgb(204,204,255)\"],[0.5,\"rgb(255,255,255)\"],[0.6,\"rgb(255,204,255)\"],[0.7,\"rgb(255,153,255)\"],[0.8,\"rgb(255,102,204)\"],[0.9,\"rgb(255,102,102)\"],[1.0,\"rgb(255,0,0)\"]],\"line\":{\"color\":\"black\",\"width\":0.6}},\"name\":\"coefficients\",\"type\":\"bar\",\"x\":[\"High_norm\",\"Close_norm\",\"Low_norm\",\"Taker_buy_Volume_norm\",\"Open_norm\",\"Trades_norm\",\"Taker_buy_asset_volume_norm\"],\"xaxis\":\"x3\",\"y\":[0.17571419013052914,0.15181779343879737,0.14484273615160723,0.14277889982563352,0.1364709188296095,0.13052229398656262,0.11785316763726061],\"yaxis\":\"y3\"}],                        {\"annotations\":[{\"font\":{\"size\":16},\"showarrow\":false,\"text\":\"Confusion Matrix\",\"x\":0.225,\"xanchor\":\"center\",\"xref\":\"paper\",\"y\":1.0,\"yanchor\":\"bottom\",\"yref\":\"paper\"},{\"font\":{\"size\":16},\"showarrow\":false,\"text\":\"Receiver operating characteristic\",\"x\":0.775,\"xanchor\":\"center\",\"xref\":\"paper\",\"y\":1.0,\"yanchor\":\"bottom\",\"yref\":\"paper\"},{\"font\":{\"size\":16},\"showarrow\":false,\"text\":\"Feature Importances\",\"x\":0.5,\"xanchor\":\"center\",\"xref\":\"paper\",\"y\":0.375,\"yanchor\":\"bottom\",\"yref\":\"paper\"}],\"autosize\":false,\"height\":900,\"margin\":{\"b\":195},\"paper_bgcolor\":\"rgba(240,240,240, 0.95)\",\"plot_bgcolor\":\"rgba(240,240,240, 0.95)\",\"showlegend\":false,\"template\":{\"data\":{\"bar\":[{\"error_x\":{\"color\":\"#2a3f5f\"},\"error_y\":{\"color\":\"#2a3f5f\"},\"marker\":{\"line\":{\"color\":\"#E5ECF6\",\"width\":0.5},\"pattern\":{\"fillmode\":\"overlay\",\"size\":10,\"solidity\":0.2}},\"type\":\"bar\"}],\"barpolar\":[{\"marker\":{\"line\":{\"color\":\"#E5ECF6\",\"width\":0.5},\"pattern\":{\"fillmode\":\"overlay\",\"size\":10,\"solidity\":0.2}},\"type\":\"barpolar\"}],\"carpet\":[{\"aaxis\":{\"endlinecolor\":\"#2a3f5f\",\"gridcolor\":\"white\",\"linecolor\":\"white\",\"minorgridcolor\":\"white\",\"startlinecolor\":\"#2a3f5f\"},\"baxis\":{\"endlinecolor\":\"#2a3f5f\",\"gridcolor\":\"white\",\"linecolor\":\"white\",\"minorgridcolor\":\"white\",\"startlinecolor\":\"#2a3f5f\"},\"type\":\"carpet\"}],\"choropleth\":[{\"colorbar\":{\"outlinewidth\":0,\"ticks\":\"\"},\"type\":\"choropleth\"}],\"contour\":[{\"colorbar\":{\"outlinewidth\":0,\"ticks\":\"\"},\"colorscale\":[[0.0,\"#0d0887\"],[0.1111111111111111,\"#46039f\"],[0.2222222222222222,\"#7201a8\"],[0.3333333333333333,\"#9c179e\"],[0.4444444444444444,\"#bd3786\"],[0.5555555555555556,\"#d8576b\"],[0.6666666666666666,\"#ed7953\"],[0.7777777777777778,\"#fb9f3a\"],[0.8888888888888888,\"#fdca26\"],[1.0,\"#f0f921\"]],\"type\":\"contour\"}],\"contourcarpet\":[{\"colorbar\":{\"outlinewidth\":0,\"ticks\":\"\"},\"type\":\"contourcarpet\"}],\"heatmap\":[{\"colorbar\":{\"outlinewidth\":0,\"ticks\":\"\"},\"colorscale\":[[0.0,\"#0d0887\"],[0.1111111111111111,\"#46039f\"],[0.2222222222222222,\"#7201a8\"],[0.3333333333333333,\"#9c179e\"],[0.4444444444444444,\"#bd3786\"],[0.5555555555555556,\"#d8576b\"],[0.6666666666666666,\"#ed7953\"],[0.7777777777777778,\"#fb9f3a\"],[0.8888888888888888,\"#fdca26\"],[1.0,\"#f0f921\"]],\"type\":\"heatmap\"}],\"heatmapgl\":[{\"colorbar\":{\"outlinewidth\":0,\"ticks\":\"\"},\"colorscale\":[[0.0,\"#0d0887\"],[0.1111111111111111,\"#46039f\"],[0.2222222222222222,\"#7201a8\"],[0.3333333333333333,\"#9c179e\"],[0.4444444444444444,\"#bd3786\"],[0.5555555555555556,\"#d8576b\"],[0.6666666666666666,\"#ed7953\"],[0.7777777777777778,\"#fb9f3a\"],[0.8888888888888888,\"#fdca26\"],[1.0,\"#f0f921\"]],\"type\":\"heatmapgl\"}],\"histogram\":[{\"marker\":{\"pattern\":{\"fillmode\":\"overlay\",\"size\":10,\"solidity\":0.2}},\"type\":\"histogram\"}],\"histogram2d\":[{\"colorbar\":{\"outlinewidth\":0,\"ticks\":\"\"},\"colorscale\":[[0.0,\"#0d0887\"],[0.1111111111111111,\"#46039f\"],[0.2222222222222222,\"#7201a8\"],[0.3333333333333333,\"#9c179e\"],[0.4444444444444444,\"#bd3786\"],[0.5555555555555556,\"#d8576b\"],[0.6666666666666666,\"#ed7953\"],[0.7777777777777778,\"#fb9f3a\"],[0.8888888888888888,\"#fdca26\"],[1.0,\"#f0f921\"]],\"type\":\"histogram2d\"}],\"histogram2dcontour\":[{\"colorbar\":{\"outlinewidth\":0,\"ticks\":\"\"},\"colorscale\":[[0.0,\"#0d0887\"],[0.1111111111111111,\"#46039f\"],[0.2222222222222222,\"#7201a8\"],[0.3333333333333333,\"#9c179e\"],[0.4444444444444444,\"#bd3786\"],[0.5555555555555556,\"#d8576b\"],[0.6666666666666666,\"#ed7953\"],[0.7777777777777778,\"#fb9f3a\"],[0.8888888888888888,\"#fdca26\"],[1.0,\"#f0f921\"]],\"type\":\"histogram2dcontour\"}],\"mesh3d\":[{\"colorbar\":{\"outlinewidth\":0,\"ticks\":\"\"},\"type\":\"mesh3d\"}],\"parcoords\":[{\"line\":{\"colorbar\":{\"outlinewidth\":0,\"ticks\":\"\"}},\"type\":\"parcoords\"}],\"pie\":[{\"automargin\":true,\"type\":\"pie\"}],\"scatter\":[{\"marker\":{\"colorbar\":{\"outlinewidth\":0,\"ticks\":\"\"}},\"type\":\"scatter\"}],\"scatter3d\":[{\"line\":{\"colorbar\":{\"outlinewidth\":0,\"ticks\":\"\"}},\"marker\":{\"colorbar\":{\"outlinewidth\":0,\"ticks\":\"\"}},\"type\":\"scatter3d\"}],\"scattercarpet\":[{\"marker\":{\"colorbar\":{\"outlinewidth\":0,\"ticks\":\"\"}},\"type\":\"scattercarpet\"}],\"scattergeo\":[{\"marker\":{\"colorbar\":{\"outlinewidth\":0,\"ticks\":\"\"}},\"type\":\"scattergeo\"}],\"scattergl\":[{\"marker\":{\"colorbar\":{\"outlinewidth\":0,\"ticks\":\"\"}},\"type\":\"scattergl\"}],\"scattermapbox\":[{\"marker\":{\"colorbar\":{\"outlinewidth\":0,\"ticks\":\"\"}},\"type\":\"scattermapbox\"}],\"scatterpolar\":[{\"marker\":{\"colorbar\":{\"outlinewidth\":0,\"ticks\":\"\"}},\"type\":\"scatterpolar\"}],\"scatterpolargl\":[{\"marker\":{\"colorbar\":{\"outlinewidth\":0,\"ticks\":\"\"}},\"type\":\"scatterpolargl\"}],\"scatterternary\":[{\"marker\":{\"colorbar\":{\"outlinewidth\":0,\"ticks\":\"\"}},\"type\":\"scatterternary\"}],\"surface\":[{\"colorbar\":{\"outlinewidth\":0,\"ticks\":\"\"},\"colorscale\":[[0.0,\"#0d0887\"],[0.1111111111111111,\"#46039f\"],[0.2222222222222222,\"#7201a8\"],[0.3333333333333333,\"#9c179e\"],[0.4444444444444444,\"#bd3786\"],[0.5555555555555556,\"#d8576b\"],[0.6666666666666666,\"#ed7953\"],[0.7777777777777778,\"#fb9f3a\"],[0.8888888888888888,\"#fdca26\"],[1.0,\"#f0f921\"]],\"type\":\"surface\"}],\"table\":[{\"cells\":{\"fill\":{\"color\":\"#EBF0F8\"},\"line\":{\"color\":\"white\"}},\"header\":{\"fill\":{\"color\":\"#C8D4E3\"},\"line\":{\"color\":\"white\"}},\"type\":\"table\"}]},\"layout\":{\"annotationdefaults\":{\"arrowcolor\":\"#2a3f5f\",\"arrowhead\":0,\"arrowwidth\":1},\"autotypenumbers\":\"strict\",\"coloraxis\":{\"colorbar\":{\"outlinewidth\":0,\"ticks\":\"\"}},\"colorscale\":{\"diverging\":[[0,\"#8e0152\"],[0.1,\"#c51b7d\"],[0.2,\"#de77ae\"],[0.3,\"#f1b6da\"],[0.4,\"#fde0ef\"],[0.5,\"#f7f7f7\"],[0.6,\"#e6f5d0\"],[0.7,\"#b8e186\"],[0.8,\"#7fbc41\"],[0.9,\"#4d9221\"],[1,\"#276419\"]],\"sequential\":[[0.0,\"#0d0887\"],[0.1111111111111111,\"#46039f\"],[0.2222222222222222,\"#7201a8\"],[0.3333333333333333,\"#9c179e\"],[0.4444444444444444,\"#bd3786\"],[0.5555555555555556,\"#d8576b\"],[0.6666666666666666,\"#ed7953\"],[0.7777777777777778,\"#fb9f3a\"],[0.8888888888888888,\"#fdca26\"],[1.0,\"#f0f921\"]],\"sequentialminus\":[[0.0,\"#0d0887\"],[0.1111111111111111,\"#46039f\"],[0.2222222222222222,\"#7201a8\"],[0.3333333333333333,\"#9c179e\"],[0.4444444444444444,\"#bd3786\"],[0.5555555555555556,\"#d8576b\"],[0.6666666666666666,\"#ed7953\"],[0.7777777777777778,\"#fb9f3a\"],[0.8888888888888888,\"#fdca26\"],[1.0,\"#f0f921\"]]},\"colorway\":[\"#636efa\",\"#EF553B\",\"#00cc96\",\"#ab63fa\",\"#FFA15A\",\"#19d3f3\",\"#FF6692\",\"#B6E880\",\"#FF97FF\",\"#FECB52\"],\"font\":{\"color\":\"#2a3f5f\"},\"geo\":{\"bgcolor\":\"white\",\"lakecolor\":\"white\",\"landcolor\":\"#E5ECF6\",\"showlakes\":true,\"showland\":true,\"subunitcolor\":\"white\"},\"hoverlabel\":{\"align\":\"left\"},\"hovermode\":\"closest\",\"mapbox\":{\"style\":\"light\"},\"paper_bgcolor\":\"white\",\"plot_bgcolor\":\"#E5ECF6\",\"polar\":{\"angularaxis\":{\"gridcolor\":\"white\",\"linecolor\":\"white\",\"ticks\":\"\"},\"bgcolor\":\"#E5ECF6\",\"radialaxis\":{\"gridcolor\":\"white\",\"linecolor\":\"white\",\"ticks\":\"\"}},\"scene\":{\"xaxis\":{\"backgroundcolor\":\"#E5ECF6\",\"gridcolor\":\"white\",\"gridwidth\":2,\"linecolor\":\"white\",\"showbackground\":true,\"ticks\":\"\",\"zerolinecolor\":\"white\"},\"yaxis\":{\"backgroundcolor\":\"#E5ECF6\",\"gridcolor\":\"white\",\"gridwidth\":2,\"linecolor\":\"white\",\"showbackground\":true,\"ticks\":\"\",\"zerolinecolor\":\"white\"},\"zaxis\":{\"backgroundcolor\":\"#E5ECF6\",\"gridcolor\":\"white\",\"gridwidth\":2,\"linecolor\":\"white\",\"showbackground\":true,\"ticks\":\"\",\"zerolinecolor\":\"white\"}},\"shapedefaults\":{\"line\":{\"color\":\"#2a3f5f\"}},\"ternary\":{\"aaxis\":{\"gridcolor\":\"white\",\"linecolor\":\"white\",\"ticks\":\"\"},\"baxis\":{\"gridcolor\":\"white\",\"linecolor\":\"white\",\"ticks\":\"\"},\"bgcolor\":\"#E5ECF6\",\"caxis\":{\"gridcolor\":\"white\",\"linecolor\":\"white\",\"ticks\":\"\"}},\"title\":{\"x\":0.05},\"xaxis\":{\"automargin\":true,\"gridcolor\":\"white\",\"linecolor\":\"white\",\"ticks\":\"\",\"title\":{\"standoff\":15},\"zerolinecolor\":\"white\",\"zerolinewidth\":2},\"yaxis\":{\"automargin\":true,\"gridcolor\":\"white\",\"linecolor\":\"white\",\"ticks\":\"\",\"title\":{\"standoff\":15},\"zerolinecolor\":\"white\",\"zerolinewidth\":2}}},\"title\":{\"text\":\"Model performance\"},\"width\":800,\"xaxis\":{\"anchor\":\"y\",\"domain\":[0.0,0.45]},\"xaxis2\":{\"anchor\":\"y2\",\"domain\":[0.55,1.0],\"title\":{\"text\":\"false positive rate\"}},\"xaxis3\":{\"anchor\":\"y3\",\"domain\":[0.0,1.0],\"showgrid\":true,\"tickangle\":90,\"tickfont\":{\"size\":10}},\"yaxis\":{\"anchor\":\"x\",\"domain\":[0.625,1.0]},\"yaxis2\":{\"anchor\":\"x2\",\"domain\":[0.625,1.0],\"title\":{\"text\":\"true positive rate\"}},\"yaxis3\":{\"anchor\":\"x3\",\"domain\":[0.0,0.375]}},                        {\"responsive\": true}                    ).then(function(){\n",
       "                            \n",
       "var gd = document.getElementById('fc5cb442-2510-407e-a166-93c0a702d8c8');\n",
       "var x = new MutationObserver(function (mutations, observer) {{\n",
       "        var display = window.getComputedStyle(gd).display;\n",
       "        if (!display || display === 'none') {{\n",
       "            console.log([gd, 'removed!']);\n",
       "            Plotly.purge(gd);\n",
       "            observer.disconnect();\n",
       "        }}\n",
       "}});\n",
       "\n",
       "// Listen for the removal of the full notebook cells\n",
       "var notebookContainer = gd.closest('#notebook-container');\n",
       "if (notebookContainer) {{\n",
       "    x.observe(notebookContainer, {childList: true});\n",
       "}}\n",
       "\n",
       "// Listen for the clearing of the current output cell\n",
       "var outputEl = gd.closest('.output');\n",
       "if (outputEl) {{\n",
       "    x.observe(outputEl, {childList: true});\n",
       "}}\n",
       "\n",
       "                        })                };                });            </script>        </div>"
      ]
     },
     "metadata": {},
     "output_type": "display_data"
    }
   ],
   "source": [
    "cols1 = [i for i in train_X.columns if i not in target_col + Open + Close] \n",
    "\n",
    "model = plot_tree_randomforest(cols1,1000,9,\"entropy\",True)"
   ]
  },
  {
   "cell_type": "code",
   "execution_count": 21,
   "metadata": {},
   "outputs": [
    {
     "name": "stdout",
     "output_type": "stream",
     "text": [
      "<class 'pandas.core.frame.DataFrame'>\n",
      "Int64Index: 100 entries, 171 to 48\n",
      "Data columns (total 1 columns):\n",
      " #   Column  Non-Null Count  Dtype\n",
      "---  ------  --------------  -----\n",
      " 0   Return  100 non-null    bool \n",
      "dtypes: bool(1)\n",
      "memory usage: 900.0 bytes\n"
     ]
    }
   ],
   "source": [
    "test_Y.info()"
   ]
  },
  {
   "cell_type": "code",
   "execution_count": 22,
   "metadata": {},
   "outputs": [],
   "source": [
    "rf_x = test_X[[i for i in cols if i not in target_col + Open + Close]]\n",
    "rf_y = model.predict(rf_x)"
   ]
  },
  {
   "cell_type": "code",
   "execution_count": 23,
   "metadata": {},
   "outputs": [],
   "source": [
    "thresholds = np.arange(0,1,0.01)"
   ]
  },
  {
   "cell_type": "code",
   "execution_count": 24,
   "metadata": {},
   "outputs": [
    {
     "name": "stdout",
     "output_type": "stream",
     "text": [
      "Threshold=0.240, F-Score=1.00000\n"
     ]
    }
   ],
   "source": [
    "def to_labels(pos_probs, threshold):\n",
    "    return (pos_probs >= threshold).astype('int')\n",
    "\n",
    "predicted_proba = model.predict_proba(rf_x)\n",
    "\n",
    "# keep probabilities for the positive outcome only\n",
    "\n",
    "predicted = predicted_proba [:,1]\n",
    "scores = [metrics.f1_score(test_Y, to_labels(predicted, t)) for t in thresholds]\n",
    "\n",
    "# get best threshold\n",
    "\n",
    "ix = argmax(scores)\n",
    "\n",
    "print('Threshold=%.3f, F-Score=%.5f' % (thresholds[ix], scores[ix]))"
   ]
  },
  {
   "cell_type": "code",
   "execution_count": 25,
   "metadata": {},
   "outputs": [
    {
     "data": {
      "text/plain": [
       "0.24"
      ]
     },
     "execution_count": 25,
     "metadata": {},
     "output_type": "execute_result"
    }
   ],
   "source": [
    "#I define the tuned threshold parameter\n",
    "threshold = ix/100\n",
    "threshold"
   ]
  },
  {
   "cell_type": "code",
   "execution_count": 26,
   "metadata": {},
   "outputs": [],
   "source": [
    "rf_x = test_X[[i for i in cols if i not in target_col + Open + Close]]\n",
    "predicted_proba = model.predict_proba(rf_x)\n",
    "predicted = (predicted_proba [:,1] >= threshold).astype('int')\n",
    "#rf_y = model.predict(rf_x)\n",
    "#array_2 = predicted"
   ]
  },
  {
   "cell_type": "code",
   "execution_count": 27,
   "metadata": {},
   "outputs": [],
   "source": [
    "recall = metrics.recall_score(test_Y, predicted)\n",
    "f1_score = metrics.f1_score(test_Y, predicted)"
   ]
  },
  {
   "cell_type": "code",
   "execution_count": 28,
   "metadata": {},
   "outputs": [
    {
     "data": {
      "text/plain": [
       "1.0"
      ]
     },
     "execution_count": 28,
     "metadata": {},
     "output_type": "execute_result"
    }
   ],
   "source": [
    "metrics.recall_score(test_Y, predicted)"
   ]
  },
  {
   "cell_type": "code",
   "execution_count": 29,
   "metadata": {},
   "outputs": [],
   "source": [
    "result = data_model[-2:]"
   ]
  },
  {
   "cell_type": "code",
   "execution_count": 30,
   "metadata": {},
   "outputs": [
    {
     "data": {
      "text/html": [
       "<div>\n",
       "<style scoped>\n",
       "    .dataframe tbody tr th:only-of-type {\n",
       "        vertical-align: middle;\n",
       "    }\n",
       "\n",
       "    .dataframe tbody tr th {\n",
       "        vertical-align: top;\n",
       "    }\n",
       "\n",
       "    .dataframe thead th {\n",
       "        text-align: right;\n",
       "    }\n",
       "</style>\n",
       "<table border=\"1\" class=\"dataframe\">\n",
       "  <thead>\n",
       "    <tr style=\"text-align: right;\">\n",
       "      <th></th>\n",
       "      <th>Open_Time</th>\n",
       "      <th>Close_Time</th>\n",
       "      <th>Open_norm</th>\n",
       "      <th>High_norm</th>\n",
       "      <th>Low_norm</th>\n",
       "      <th>Close_norm</th>\n",
       "      <th>Trades_norm</th>\n",
       "      <th>Taker_buy_Volume_norm</th>\n",
       "      <th>Taker_buy_asset_volume_norm</th>\n",
       "      <th>Return</th>\n",
       "    </tr>\n",
       "  </thead>\n",
       "  <tbody>\n",
       "    <tr>\n",
       "      <th>497</th>\n",
       "      <td>2022-01-19 06:00:00</td>\n",
       "      <td>2022-01-19 06:59:59.999</td>\n",
       "      <td>-1.362066</td>\n",
       "      <td>-1.323301</td>\n",
       "      <td>-1.294819</td>\n",
       "      <td>-1.274094</td>\n",
       "      <td>-0.222270</td>\n",
       "      <td>0.167897</td>\n",
       "      <td>0.056898</td>\n",
       "      <td>False</td>\n",
       "    </tr>\n",
       "    <tr>\n",
       "      <th>498</th>\n",
       "      <td>2022-01-19 07:00:00</td>\n",
       "      <td>2022-01-19 07:59:59.999</td>\n",
       "      <td>-1.279200</td>\n",
       "      <td>-1.337138</td>\n",
       "      <td>-1.522003</td>\n",
       "      <td>-1.303338</td>\n",
       "      <td>0.369389</td>\n",
       "      <td>0.309420</td>\n",
       "      <td>0.187881</td>\n",
       "      <td>False</td>\n",
       "    </tr>\n",
       "  </tbody>\n",
       "</table>\n",
       "</div>"
      ],
      "text/plain": [
       "              Open_Time              Close_Time  Open_norm  High_norm  \\\n",
       "497 2022-01-19 06:00:00 2022-01-19 06:59:59.999  -1.362066  -1.323301   \n",
       "498 2022-01-19 07:00:00 2022-01-19 07:59:59.999  -1.279200  -1.337138   \n",
       "\n",
       "     Low_norm  Close_norm  Trades_norm  Taker_buy_Volume_norm  \\\n",
       "497 -1.294819   -1.274094    -0.222270               0.167897   \n",
       "498 -1.522003   -1.303338     0.369389               0.309420   \n",
       "\n",
       "     Taker_buy_asset_volume_norm  Return  \n",
       "497                     0.056898   False  \n",
       "498                     0.187881   False  "
      ]
     },
     "execution_count": 30,
     "metadata": {},
     "output_type": "execute_result"
    }
   ],
   "source": [
    "result"
   ]
  },
  {
   "cell_type": "code",
   "execution_count": 31,
   "metadata": {},
   "outputs": [],
   "source": [
    "rf_x = result[[i for i in cols if i not in target_col + Open + Close]]"
   ]
  },
  {
   "cell_type": "code",
   "execution_count": 32,
   "metadata": {},
   "outputs": [
    {
     "data": {
      "text/html": [
       "<div>\n",
       "<style scoped>\n",
       "    .dataframe tbody tr th:only-of-type {\n",
       "        vertical-align: middle;\n",
       "    }\n",
       "\n",
       "    .dataframe tbody tr th {\n",
       "        vertical-align: top;\n",
       "    }\n",
       "\n",
       "    .dataframe thead th {\n",
       "        text-align: right;\n",
       "    }\n",
       "</style>\n",
       "<table border=\"1\" class=\"dataframe\">\n",
       "  <thead>\n",
       "    <tr style=\"text-align: right;\">\n",
       "      <th></th>\n",
       "      <th>Open_norm</th>\n",
       "      <th>High_norm</th>\n",
       "      <th>Low_norm</th>\n",
       "      <th>Close_norm</th>\n",
       "      <th>Trades_norm</th>\n",
       "      <th>Taker_buy_Volume_norm</th>\n",
       "      <th>Taker_buy_asset_volume_norm</th>\n",
       "    </tr>\n",
       "  </thead>\n",
       "  <tbody>\n",
       "    <tr>\n",
       "      <th>497</th>\n",
       "      <td>-1.362066</td>\n",
       "      <td>-1.323301</td>\n",
       "      <td>-1.294819</td>\n",
       "      <td>-1.274094</td>\n",
       "      <td>-0.222270</td>\n",
       "      <td>0.167897</td>\n",
       "      <td>0.056898</td>\n",
       "    </tr>\n",
       "    <tr>\n",
       "      <th>498</th>\n",
       "      <td>-1.279200</td>\n",
       "      <td>-1.337138</td>\n",
       "      <td>-1.522003</td>\n",
       "      <td>-1.303338</td>\n",
       "      <td>0.369389</td>\n",
       "      <td>0.309420</td>\n",
       "      <td>0.187881</td>\n",
       "    </tr>\n",
       "  </tbody>\n",
       "</table>\n",
       "</div>"
      ],
      "text/plain": [
       "     Open_norm  High_norm  Low_norm  Close_norm  Trades_norm  \\\n",
       "497  -1.362066  -1.323301 -1.294819   -1.274094    -0.222270   \n",
       "498  -1.279200  -1.337138 -1.522003   -1.303338     0.369389   \n",
       "\n",
       "     Taker_buy_Volume_norm  Taker_buy_asset_volume_norm  \n",
       "497               0.167897                     0.056898  \n",
       "498               0.309420                     0.187881  "
      ]
     },
     "execution_count": 32,
     "metadata": {},
     "output_type": "execute_result"
    }
   ],
   "source": [
    "rf_x"
   ]
  },
  {
   "cell_type": "code",
   "execution_count": 33,
   "metadata": {},
   "outputs": [],
   "source": [
    "rf_y  = result[target_col]\n",
    "predicted_proba = model.predict_proba(rf_x)\n",
    "predicted = (predicted_proba [:,1] >= threshold).astype('int')"
   ]
  },
  {
   "cell_type": "code",
   "execution_count": 34,
   "metadata": {},
   "outputs": [
    {
     "data": {
      "text/html": [
       "<div>\n",
       "<style scoped>\n",
       "    .dataframe tbody tr th:only-of-type {\n",
       "        vertical-align: middle;\n",
       "    }\n",
       "\n",
       "    .dataframe tbody tr th {\n",
       "        vertical-align: top;\n",
       "    }\n",
       "\n",
       "    .dataframe thead th {\n",
       "        text-align: right;\n",
       "    }\n",
       "</style>\n",
       "<table border=\"1\" class=\"dataframe\">\n",
       "  <thead>\n",
       "    <tr style=\"text-align: right;\">\n",
       "      <th></th>\n",
       "      <th>Return</th>\n",
       "    </tr>\n",
       "  </thead>\n",
       "  <tbody>\n",
       "    <tr>\n",
       "      <th>497</th>\n",
       "      <td>False</td>\n",
       "    </tr>\n",
       "    <tr>\n",
       "      <th>498</th>\n",
       "      <td>False</td>\n",
       "    </tr>\n",
       "  </tbody>\n",
       "</table>\n",
       "</div>"
      ],
      "text/plain": [
       "     Return\n",
       "497   False\n",
       "498   False"
      ]
     },
     "execution_count": 34,
     "metadata": {},
     "output_type": "execute_result"
    }
   ],
   "source": [
    "rf_y"
   ]
  },
  {
   "cell_type": "code",
   "execution_count": 35,
   "metadata": {},
   "outputs": [
    {
     "data": {
      "text/plain": [
       "array([0, 0])"
      ]
     },
     "execution_count": 35,
     "metadata": {},
     "output_type": "execute_result"
    }
   ],
   "source": [
    "predicted"
   ]
  },
  {
   "cell_type": "code",
   "execution_count": 36,
   "metadata": {},
   "outputs": [
    {
     "data": {
      "text/plain": [
       "False"
      ]
     },
     "execution_count": 36,
     "metadata": {},
     "output_type": "execute_result"
    }
   ],
   "source": [
    "str(predicted[0]) == 'False'"
   ]
  },
  {
   "cell_type": "code",
   "execution_count": 37,
   "metadata": {},
   "outputs": [
    {
     "data": {
      "text/html": [
       "<div>\n",
       "<style scoped>\n",
       "    .dataframe tbody tr th:only-of-type {\n",
       "        vertical-align: middle;\n",
       "    }\n",
       "\n",
       "    .dataframe tbody tr th {\n",
       "        vertical-align: top;\n",
       "    }\n",
       "\n",
       "    .dataframe thead th {\n",
       "        text-align: right;\n",
       "    }\n",
       "</style>\n",
       "<table border=\"1\" class=\"dataframe\">\n",
       "  <thead>\n",
       "    <tr style=\"text-align: right;\">\n",
       "      <th></th>\n",
       "      <th>Open_norm</th>\n",
       "      <th>High_norm</th>\n",
       "      <th>Low_norm</th>\n",
       "      <th>Close_norm</th>\n",
       "      <th>Trades_norm</th>\n",
       "      <th>Taker_buy_Volume_norm</th>\n",
       "      <th>Taker_buy_asset_volume_norm</th>\n",
       "    </tr>\n",
       "  </thead>\n",
       "  <tbody>\n",
       "    <tr>\n",
       "      <th>497</th>\n",
       "      <td>-1.362066</td>\n",
       "      <td>-1.323301</td>\n",
       "      <td>-1.294819</td>\n",
       "      <td>-1.274094</td>\n",
       "      <td>-0.222270</td>\n",
       "      <td>0.167897</td>\n",
       "      <td>0.056898</td>\n",
       "    </tr>\n",
       "    <tr>\n",
       "      <th>498</th>\n",
       "      <td>-1.279200</td>\n",
       "      <td>-1.337138</td>\n",
       "      <td>-1.522003</td>\n",
       "      <td>-1.303338</td>\n",
       "      <td>0.369389</td>\n",
       "      <td>0.309420</td>\n",
       "      <td>0.187881</td>\n",
       "    </tr>\n",
       "  </tbody>\n",
       "</table>\n",
       "</div>"
      ],
      "text/plain": [
       "     Open_norm  High_norm  Low_norm  Close_norm  Trades_norm  \\\n",
       "497  -1.362066  -1.323301 -1.294819   -1.274094    -0.222270   \n",
       "498  -1.279200  -1.337138 -1.522003   -1.303338     0.369389   \n",
       "\n",
       "     Taker_buy_Volume_norm  Taker_buy_asset_volume_norm  \n",
       "497               0.167897                     0.056898  \n",
       "498               0.309420                     0.187881  "
      ]
     },
     "execution_count": 37,
     "metadata": {},
     "output_type": "execute_result"
    }
   ],
   "source": [
    "rf_x"
   ]
  },
  {
   "cell_type": "code",
   "execution_count": 38,
   "metadata": {},
   "outputs": [
    {
     "data": {
      "text/plain": [
       "0"
      ]
     },
     "execution_count": 38,
     "metadata": {},
     "output_type": "execute_result"
    }
   ],
   "source": [
    "predicted[0]"
   ]
  },
  {
   "cell_type": "code",
   "execution_count": 39,
   "metadata": {},
   "outputs": [
    {
     "data": {
      "text/html": [
       "<div>\n",
       "<style scoped>\n",
       "    .dataframe tbody tr th:only-of-type {\n",
       "        vertical-align: middle;\n",
       "    }\n",
       "\n",
       "    .dataframe tbody tr th {\n",
       "        vertical-align: top;\n",
       "    }\n",
       "\n",
       "    .dataframe thead th {\n",
       "        text-align: right;\n",
       "    }\n",
       "</style>\n",
       "<table border=\"1\" class=\"dataframe\">\n",
       "  <thead>\n",
       "    <tr style=\"text-align: right;\">\n",
       "      <th></th>\n",
       "      <th>Open_Time</th>\n",
       "      <th>Close_Time</th>\n",
       "      <th>Open_norm</th>\n",
       "      <th>High_norm</th>\n",
       "      <th>Low_norm</th>\n",
       "      <th>Close_norm</th>\n",
       "      <th>Trades_norm</th>\n",
       "      <th>Taker_buy_Volume_norm</th>\n",
       "      <th>Taker_buy_asset_volume_norm</th>\n",
       "      <th>Return</th>\n",
       "    </tr>\n",
       "  </thead>\n",
       "  <tbody>\n",
       "    <tr>\n",
       "      <th>498</th>\n",
       "      <td>2022-01-19 07:00:00</td>\n",
       "      <td>2022-01-19 07:59:59.999</td>\n",
       "      <td>-1.2792</td>\n",
       "      <td>-1.337138</td>\n",
       "      <td>-1.522003</td>\n",
       "      <td>-1.303338</td>\n",
       "      <td>0.369389</td>\n",
       "      <td>0.30942</td>\n",
       "      <td>0.187881</td>\n",
       "      <td>False</td>\n",
       "    </tr>\n",
       "  </tbody>\n",
       "</table>\n",
       "</div>"
      ],
      "text/plain": [
       "              Open_Time              Close_Time  Open_norm  High_norm  \\\n",
       "498 2022-01-19 07:00:00 2022-01-19 07:59:59.999    -1.2792  -1.337138   \n",
       "\n",
       "     Low_norm  Close_norm  Trades_norm  Taker_buy_Volume_norm  \\\n",
       "498 -1.522003   -1.303338     0.369389                0.30942   \n",
       "\n",
       "     Taker_buy_asset_volume_norm  Return  \n",
       "498                     0.187881   False  "
      ]
     },
     "execution_count": 39,
     "metadata": {},
     "output_type": "execute_result"
    }
   ],
   "source": [
    "data_model[498:499]"
   ]
  },
  {
   "cell_type": "code",
   "execution_count": 40,
   "metadata": {},
   "outputs": [
    {
     "data": {
      "text/html": [
       "<div>\n",
       "<style scoped>\n",
       "    .dataframe tbody tr th:only-of-type {\n",
       "        vertical-align: middle;\n",
       "    }\n",
       "\n",
       "    .dataframe tbody tr th {\n",
       "        vertical-align: top;\n",
       "    }\n",
       "\n",
       "    .dataframe thead th {\n",
       "        text-align: right;\n",
       "    }\n",
       "</style>\n",
       "<table border=\"1\" class=\"dataframe\">\n",
       "  <thead>\n",
       "    <tr style=\"text-align: right;\">\n",
       "      <th></th>\n",
       "      <th>Open_Time</th>\n",
       "      <th>Open</th>\n",
       "      <th>High</th>\n",
       "      <th>Low</th>\n",
       "      <th>Close</th>\n",
       "      <th>Volume</th>\n",
       "      <th>Close_Time</th>\n",
       "      <th>Quote_Asset_Volume</th>\n",
       "      <th>Trades</th>\n",
       "      <th>Taker_buy_Volume</th>\n",
       "      <th>Taker_buy_asset_volume</th>\n",
       "      <th>Estimation</th>\n",
       "      <th>Recall</th>\n",
       "      <th>timestamp</th>\n",
       "      <th>threshold</th>\n",
       "      <th>F1_Score</th>\n",
       "    </tr>\n",
       "  </thead>\n",
       "  <tbody>\n",
       "    <tr>\n",
       "      <th>498</th>\n",
       "      <td>2022-01-19 07:00:00</td>\n",
       "      <td>3086.01</td>\n",
       "      <td>3088.82</td>\n",
       "      <td>3000.0</td>\n",
       "      <td>3078.34</td>\n",
       "      <td>22051.4834</td>\n",
       "      <td>2022-01-19 07:59:59.999</td>\n",
       "      <td>6.740651e+07</td>\n",
       "      <td>36102</td>\n",
       "      <td>8428.9457</td>\n",
       "      <td>2.585609e+07</td>\n",
       "      <td>False</td>\n",
       "      <td>1.0</td>\n",
       "      <td>2022-01-19 08:44:23.060774</td>\n",
       "      <td>0.24</td>\n",
       "      <td>1.0</td>\n",
       "    </tr>\n",
       "  </tbody>\n",
       "</table>\n",
       "</div>"
      ],
      "text/plain": [
       "              Open_Time     Open     High     Low    Close      Volume  \\\n",
       "498 2022-01-19 07:00:00  3086.01  3088.82  3000.0  3078.34  22051.4834   \n",
       "\n",
       "                 Close_Time  Quote_Asset_Volume  Trades  Taker_buy_Volume  \\\n",
       "498 2022-01-19 07:59:59.999        6.740651e+07   36102         8428.9457   \n",
       "\n",
       "     Taker_buy_asset_volume  Estimation  Recall                  timestamp  \\\n",
       "498            2.585609e+07       False     1.0 2022-01-19 08:44:23.060774   \n",
       "\n",
       "     threshold  F1_Score  \n",
       "498       0.24       1.0  "
      ]
     },
     "execution_count": 40,
     "metadata": {},
     "output_type": "execute_result"
    }
   ],
   "source": [
    "file = df[498:499]\n",
    "file = file.drop(['index','Return'], axis = 1)\n",
    "file['Estimation'] = np.where(predicted[0] == 0, False, True)\n",
    "file['Recall'] = recall\n",
    "from datetime import datetime\n",
    "file['timestamp'] = datetime.now()\n",
    "file['threshold'] = threshold\n",
    "file['F1_Score'] = f1_score\n",
    "file"
   ]
  },
  {
   "cell_type": "code",
   "execution_count": 41,
   "metadata": {},
   "outputs": [],
   "source": [
    "#file.to_csv('ML_DB_Binance_V3.csv',index = False)\n",
    "file.to_csv('ML_DB_Binance_V3.csv', header = None, mode = 'a', index = False)"
   ]
  },
  {
   "cell_type": "markdown",
   "metadata": {},
   "source": [
    "#  5. BUY AND SELL ORDERS"
   ]
  },
  {
   "cell_type": "code",
   "execution_count": 42,
   "metadata": {},
   "outputs": [],
   "source": [
    "from binance.client import Client\n",
    "import itertools\n",
    "from itertools import product\n",
    "import os\n",
    "from datetime import datetime\n",
    "import numpy as np\n",
    "from binance.client import Client\n",
    "from binance.enums import *\n",
    "from binance.exceptions import BinanceAPIException, BinanceOrderException"
   ]
  },
  {
   "cell_type": "code",
   "execution_count": 122,
   "metadata": {},
   "outputs": [],
   "source": [
    "# init\n",
    "api_key = 'YOUR_KEY'\n",
    "api_secret = 'YOUR_API_SECRET'"
   ]
  },
  {
   "cell_type": "code",
   "execution_count": 123,
   "metadata": {},
   "outputs": [],
   "source": [
    "client = Client(api_key, api_secret)"
   ]
  },
  {
   "cell_type": "code",
   "execution_count": 124,
   "metadata": {},
   "outputs": [
    {
     "data": {
      "text/html": [
       "<div>\n",
       "<style scoped>\n",
       "    .dataframe tbody tr th:only-of-type {\n",
       "        vertical-align: middle;\n",
       "    }\n",
       "\n",
       "    .dataframe tbody tr th {\n",
       "        vertical-align: top;\n",
       "    }\n",
       "\n",
       "    .dataframe thead th {\n",
       "        text-align: right;\n",
       "    }\n",
       "</style>\n",
       "<table border=\"1\" class=\"dataframe\">\n",
       "  <thead>\n",
       "    <tr style=\"text-align: right;\">\n",
       "      <th></th>\n",
       "      <th>PAIR</th>\n",
       "      <th>COMPRA</th>\n",
       "      <th>VENTA</th>\n",
       "      <th>SYMBOL</th>\n",
       "      <th>IN</th>\n",
       "      <th>CRYPTO</th>\n",
       "    </tr>\n",
       "  </thead>\n",
       "  <tbody>\n",
       "    <tr>\n",
       "      <th></th>\n",
       "      <td>ETHUSDT</td>\n",
       "      <td>3034.35</td>\n",
       "      <td>3034.06</td>\n",
       "      <td>ETHUSDT</td>\n",
       "      <td>USDT</td>\n",
       "      <td>ETH</td>\n",
       "    </tr>\n",
       "  </tbody>\n",
       "</table>\n",
       "</div>"
      ],
      "text/plain": [
       "     PAIR   COMPRA    VENTA   SYMBOL    IN CRYPTO\n",
       "  ETHUSDT  3034.35  3034.06  ETHUSDT  USDT    ETH"
      ]
     },
     "execution_count": 124,
     "metadata": {},
     "output_type": "execute_result"
    }
   ],
   "source": [
    "mkt_info = client.get_orderbook_tickers()\n",
    "mkt_info = pd.DataFrame(mkt_info)\n",
    "mkt_info = mkt_info[mkt_info['symbol'] == 'ETHUSDT']\n",
    "\n",
    "d = {'PAIR': 'ETHUSDT', 'COMPRA': float(mkt_info['askPrice'][0:1]),\n",
    "     'VENTA': float(mkt_info['bidPrice'][0:1]),\n",
    "     'SYMBOL': 'ETHUSDT', 'IN': 'USDT', 'CRYPTO': 'ETH'}\n",
    "\n",
    "mkt_info = pd.DataFrame(data = d, index =[''])\n",
    "\n",
    "mkt_info"
   ]
  },
  {
   "cell_type": "code",
   "execution_count": 125,
   "metadata": {},
   "outputs": [],
   "source": [
    "trade = mkt_info.copy()"
   ]
  },
  {
   "cell_type": "code",
   "execution_count": 126,
   "metadata": {},
   "outputs": [
    {
     "data": {
      "text/plain": [
       "'0.09733002'"
      ]
     },
     "execution_count": 126,
     "metadata": {},
     "output_type": "execute_result"
    }
   ],
   "source": [
    "balance = client.get_asset_balance(asset=trade['IN'][0])\n",
    "balance['free']"
   ]
  },
  {
   "cell_type": "code",
   "execution_count": 127,
   "metadata": {},
   "outputs": [
    {
     "data": {
      "text/html": [
       "<div>\n",
       "<style scoped>\n",
       "    .dataframe tbody tr th:only-of-type {\n",
       "        vertical-align: middle;\n",
       "    }\n",
       "\n",
       "    .dataframe tbody tr th {\n",
       "        vertical-align: top;\n",
       "    }\n",
       "\n",
       "    .dataframe thead th {\n",
       "        text-align: right;\n",
       "    }\n",
       "</style>\n",
       "<table border=\"1\" class=\"dataframe\">\n",
       "  <thead>\n",
       "    <tr style=\"text-align: right;\">\n",
       "      <th></th>\n",
       "      <th>PAIR</th>\n",
       "      <th>COMPRA</th>\n",
       "      <th>VENTA</th>\n",
       "      <th>SYMBOL</th>\n",
       "      <th>IN</th>\n",
       "      <th>CRYPTO</th>\n",
       "    </tr>\n",
       "  </thead>\n",
       "  <tbody>\n",
       "    <tr>\n",
       "      <th></th>\n",
       "      <td>ETHUSDT</td>\n",
       "      <td>3034.35</td>\n",
       "      <td>3034.06</td>\n",
       "      <td>ETHUSDT</td>\n",
       "      <td>USDT</td>\n",
       "      <td>ETH</td>\n",
       "    </tr>\n",
       "  </tbody>\n",
       "</table>\n",
       "</div>"
      ],
      "text/plain": [
       "     PAIR   COMPRA    VENTA   SYMBOL    IN CRYPTO\n",
       "  ETHUSDT  3034.35  3034.06  ETHUSDT  USDT    ETH"
      ]
     },
     "execution_count": 127,
     "metadata": {},
     "output_type": "execute_result"
    }
   ],
   "source": [
    "trade"
   ]
  },
  {
   "cell_type": "code",
   "execution_count": 128,
   "metadata": {},
   "outputs": [],
   "source": [
    "trade['VENTA'] = float(trade['COMPRA']) * 1.015"
   ]
  },
  {
   "cell_type": "code",
   "execution_count": 129,
   "metadata": {},
   "outputs": [
    {
     "data": {
      "text/html": [
       "<div>\n",
       "<style scoped>\n",
       "    .dataframe tbody tr th:only-of-type {\n",
       "        vertical-align: middle;\n",
       "    }\n",
       "\n",
       "    .dataframe tbody tr th {\n",
       "        vertical-align: top;\n",
       "    }\n",
       "\n",
       "    .dataframe thead th {\n",
       "        text-align: right;\n",
       "    }\n",
       "</style>\n",
       "<table border=\"1\" class=\"dataframe\">\n",
       "  <thead>\n",
       "    <tr style=\"text-align: right;\">\n",
       "      <th></th>\n",
       "      <th>PAIR</th>\n",
       "      <th>COMPRA</th>\n",
       "      <th>VENTA</th>\n",
       "      <th>SYMBOL</th>\n",
       "      <th>IN</th>\n",
       "      <th>CRYPTO</th>\n",
       "    </tr>\n",
       "  </thead>\n",
       "  <tbody>\n",
       "    <tr>\n",
       "      <th></th>\n",
       "      <td>ETHUSDT</td>\n",
       "      <td>3034.35</td>\n",
       "      <td>3079.86525</td>\n",
       "      <td>ETHUSDT</td>\n",
       "      <td>USDT</td>\n",
       "      <td>ETH</td>\n",
       "    </tr>\n",
       "  </tbody>\n",
       "</table>\n",
       "</div>"
      ],
      "text/plain": [
       "     PAIR   COMPRA       VENTA   SYMBOL    IN CRYPTO\n",
       "  ETHUSDT  3034.35  3079.86525  ETHUSDT  USDT    ETH"
      ]
     },
     "execution_count": 129,
     "metadata": {},
     "output_type": "execute_result"
    }
   ],
   "source": [
    "trade"
   ]
  },
  {
   "cell_type": "code",
   "execution_count": 130,
   "metadata": {},
   "outputs": [
    {
     "data": {
      "text/html": [
       "<div>\n",
       "<style scoped>\n",
       "    .dataframe tbody tr th:only-of-type {\n",
       "        vertical-align: middle;\n",
       "    }\n",
       "\n",
       "    .dataframe tbody tr th {\n",
       "        vertical-align: top;\n",
       "    }\n",
       "\n",
       "    .dataframe thead th {\n",
       "        text-align: right;\n",
       "    }\n",
       "</style>\n",
       "<table border=\"1\" class=\"dataframe\">\n",
       "  <thead>\n",
       "    <tr style=\"text-align: right;\">\n",
       "      <th></th>\n",
       "      <th>PAIR</th>\n",
       "      <th>COMPRA</th>\n",
       "      <th>VENTA</th>\n",
       "      <th>IN</th>\n",
       "      <th>CRYPTO</th>\n",
       "      <th>AMOUNT_IN</th>\n",
       "    </tr>\n",
       "  </thead>\n",
       "  <tbody>\n",
       "    <tr>\n",
       "      <th></th>\n",
       "      <td>ETHUSDT</td>\n",
       "      <td>3034.35</td>\n",
       "      <td>3079.86525</td>\n",
       "      <td>USDT</td>\n",
       "      <td>ETH</td>\n",
       "      <td>0.0</td>\n",
       "    </tr>\n",
       "  </tbody>\n",
       "</table>\n",
       "</div>"
      ],
      "text/plain": [
       "     PAIR   COMPRA       VENTA    IN CRYPTO  AMOUNT_IN\n",
       "  ETHUSDT  3034.35  3079.86525  USDT    ETH        0.0"
      ]
     },
     "execution_count": 130,
     "metadata": {},
     "output_type": "execute_result"
    }
   ],
   "source": [
    "trade['AMOUNT_IN'] = round_decimals_down(float(balance['free'])/float(trade['COMPRA']),4)\n",
    "trade = trade.drop(['SYMBOL'], axis = 1)\n",
    "trade"
   ]
  },
  {
   "cell_type": "code",
   "execution_count": 131,
   "metadata": {},
   "outputs": [],
   "source": [
    "amount_out = client.get_asset_balance(asset=trade['CRYPTO'][0])\n",
    "trade['AMOUNT_OUT'] = str(round_decimals_down(float(amount_out['free']),4))\n",
    "trade['timestamp'] = datetime.now()\n",
    "trade['DOLLARS_IN'] = round(float(trade['COMPRA'][0])*float(trade['AMOUNT_IN'][0]),2)\n",
    "trade['DOLLARS_OUT'] = round(float(trade['VENTA'][0])*float(trade['AMOUNT_OUT'][0]),2)"
   ]
  },
  {
   "cell_type": "code",
   "execution_count": 132,
   "metadata": {},
   "outputs": [
    {
     "data": {
      "text/html": [
       "<div>\n",
       "<style scoped>\n",
       "    .dataframe tbody tr th:only-of-type {\n",
       "        vertical-align: middle;\n",
       "    }\n",
       "\n",
       "    .dataframe tbody tr th {\n",
       "        vertical-align: top;\n",
       "    }\n",
       "\n",
       "    .dataframe thead th {\n",
       "        text-align: right;\n",
       "    }\n",
       "</style>\n",
       "<table border=\"1\" class=\"dataframe\">\n",
       "  <thead>\n",
       "    <tr style=\"text-align: right;\">\n",
       "      <th></th>\n",
       "      <th>PAIR</th>\n",
       "      <th>COMPRA</th>\n",
       "      <th>VENTA</th>\n",
       "      <th>IN</th>\n",
       "      <th>CRYPTO</th>\n",
       "      <th>AMOUNT_IN</th>\n",
       "      <th>AMOUNT_OUT</th>\n",
       "      <th>timestamp</th>\n",
       "      <th>DOLLARS_IN</th>\n",
       "      <th>DOLLARS_OUT</th>\n",
       "    </tr>\n",
       "  </thead>\n",
       "  <tbody>\n",
       "    <tr>\n",
       "      <th></th>\n",
       "      <td>ETHUSDT</td>\n",
       "      <td>3034.35</td>\n",
       "      <td>3079.86525</td>\n",
       "      <td>USDT</td>\n",
       "      <td>ETH</td>\n",
       "      <td>0.0</td>\n",
       "      <td>0.7969</td>\n",
       "      <td>2022-01-08 16:17:19.766685</td>\n",
       "      <td>0.0</td>\n",
       "      <td>2454.34</td>\n",
       "    </tr>\n",
       "  </tbody>\n",
       "</table>\n",
       "</div>"
      ],
      "text/plain": [
       "     PAIR   COMPRA       VENTA    IN CRYPTO  AMOUNT_IN AMOUNT_OUT  \\\n",
       "  ETHUSDT  3034.35  3079.86525  USDT    ETH        0.0     0.7969   \n",
       "\n",
       "                  timestamp  DOLLARS_IN  DOLLARS_OUT  \n",
       " 2022-01-08 16:17:19.766685         0.0      2454.34  "
      ]
     },
     "execution_count": 132,
     "metadata": {},
     "output_type": "execute_result"
    }
   ],
   "source": [
    "trade"
   ]
  },
  {
   "cell_type": "code",
   "execution_count": 133,
   "metadata": {},
   "outputs": [
    {
     "data": {
      "text/plain": [
       "1.0"
      ]
     },
     "execution_count": 133,
     "metadata": {},
     "output_type": "execute_result"
    }
   ],
   "source": [
    "recall"
   ]
  },
  {
   "cell_type": "code",
   "execution_count": 134,
   "metadata": {},
   "outputs": [
    {
     "data": {
      "text/plain": [
       "0"
      ]
     },
     "execution_count": 134,
     "metadata": {},
     "output_type": "execute_result"
    }
   ],
   "source": [
    "predicted[0]"
   ]
  },
  {
   "cell_type": "code",
   "execution_count": 138,
   "metadata": {},
   "outputs": [
    {
     "name": "stdout",
     "output_type": "stream",
     "text": [
      "No trades\n"
     ]
    }
   ],
   "source": [
    "if recall > 0.9 and predicted[0] == 1: \n",
    "    try:\n",
    "        buy_limit = client.create_order(\n",
    "        symbol=str(trade['PAIR'][0]),\n",
    "        side='BUY',\n",
    "        type='LIMIT',\n",
    "        timeInForce='IOC',\n",
    "        quantity=str(round(float(trade['AMOUNT_IN'][0]),4)),\n",
    "        price=str(round(float(trade['COMPRA'][0]),2)))\n",
    "\n",
    "    except BinanceAPIException as e:\n",
    "        # error handling goes here\n",
    "        print(e)\n",
    "            \n",
    "    except BinanceOrderException as e:\n",
    "        # error handling goes here\n",
    "        print(e)\n",
    "            \n",
    "else:\n",
    "    print(\"No trades\")"
   ]
  },
  {
   "cell_type": "code",
   "execution_count": 139,
   "metadata": {},
   "outputs": [],
   "source": [
    "time.sleep(5)"
   ]
  },
  {
   "cell_type": "code",
   "execution_count": 141,
   "metadata": {},
   "outputs": [
    {
     "ename": "NameError",
     "evalue": "name 'buy_limit' is not defined",
     "output_type": "error",
     "traceback": [
      "\u001b[0;31m---------------------------------------------------------------------------\u001b[0m",
      "\u001b[0;31mNameError\u001b[0m                                 Traceback (most recent call last)",
      "\u001b[0;32m<ipython-input-141-bb8026eb45a7>\u001b[0m in \u001b[0;36m<module>\u001b[0;34m\u001b[0m\n\u001b[0;32m----> 1\u001b[0;31m \u001b[0;32mif\u001b[0m \u001b[0mfloat\u001b[0m\u001b[0;34m(\u001b[0m\u001b[0mclient\u001b[0m\u001b[0;34m.\u001b[0m\u001b[0mget_asset_balance\u001b[0m\u001b[0;34m(\u001b[0m\u001b[0masset\u001b[0m\u001b[0;34m=\u001b[0m\u001b[0mtrade\u001b[0m\u001b[0;34m[\u001b[0m\u001b[0;34m'CRYPTO'\u001b[0m\u001b[0;34m]\u001b[0m\u001b[0;34m[\u001b[0m\u001b[0;36m0\u001b[0m\u001b[0;34m]\u001b[0m\u001b[0;34m)\u001b[0m\u001b[0;34m[\u001b[0m\u001b[0;34m'free'\u001b[0m\u001b[0;34m]\u001b[0m\u001b[0;34m)\u001b[0m \u001b[0;34m>\u001b[0m \u001b[0;36m0.01\u001b[0m \u001b[0;32mand\u001b[0m \u001b[0mbuy_limit\u001b[0m\u001b[0;34m[\u001b[0m\u001b[0;34m'status'\u001b[0m\u001b[0;34m]\u001b[0m \u001b[0;34m==\u001b[0m \u001b[0;34m'FILLED'\u001b[0m\u001b[0;34m:\u001b[0m\u001b[0;34m\u001b[0m\u001b[0;34m\u001b[0m\u001b[0m\n\u001b[0m\u001b[1;32m      2\u001b[0m \u001b[0;34m\u001b[0m\u001b[0m\n\u001b[1;32m      3\u001b[0m     \u001b[0mamount_out\u001b[0m \u001b[0;34m=\u001b[0m \u001b[0mclient\u001b[0m\u001b[0;34m.\u001b[0m\u001b[0mget_asset_balance\u001b[0m\u001b[0;34m(\u001b[0m\u001b[0masset\u001b[0m\u001b[0;34m=\u001b[0m\u001b[0mtrade\u001b[0m\u001b[0;34m[\u001b[0m\u001b[0;34m'CRYPTO'\u001b[0m\u001b[0;34m]\u001b[0m\u001b[0;34m[\u001b[0m\u001b[0;36m0\u001b[0m\u001b[0;34m]\u001b[0m\u001b[0;34m)\u001b[0m\u001b[0;34m\u001b[0m\u001b[0;34m\u001b[0m\u001b[0m\n\u001b[1;32m      4\u001b[0m \u001b[0;34m\u001b[0m\u001b[0m\n\u001b[1;32m      5\u001b[0m     \u001b[0;31m#4 para ETH y 6 para BTC\u001b[0m\u001b[0;34m\u001b[0m\u001b[0;34m\u001b[0m\u001b[0;34m\u001b[0m\u001b[0m\n",
      "\u001b[0;31mNameError\u001b[0m: name 'buy_limit' is not defined"
     ]
    }
   ],
   "source": [
    "if float(client.get_asset_balance(asset=trade['CRYPTO'][0])['free']) > 0.01 and buy_limit['status'] == 'FILLED':\n",
    "    \n",
    "    amount_out = client.get_asset_balance(asset=trade['CRYPTO'][0])\n",
    "    \n",
    "    #4 para ETH y 6 para BTC\n",
    "    trade['AMOUNT_OUT'] = str(round_decimals_down(float(amount_out['free']),4))\n",
    "    \n",
    "    try:\n",
    "        sell_limit = client.order_oco_sell(\n",
    "        symbol='ETHUSDT',\n",
    "        quantity=str(trade['AMOUNT_OUT'][0]),\n",
    "        price=str(round(float(trade['VENTA'][0]),2)),\n",
    "        stopPrice= str(round(float(trade['COMPRA'][0])*.971,2)),                                            \n",
    "        stopLimitPrice= str(round(float(trade['COMPRA'][0])*.97,2)),\n",
    "        stopLimitTimeInForce='GTC')\n",
    "\n",
    "    except BinanceAPIException as e:\n",
    "        # error handling goes here\n",
    "        print(e)\n",
    "    except BinanceOrderException as e:\n",
    "        # error handling goes here\n",
    "        print(e)\n",
    "\n",
    "    trade['DOLLARS_IN'] = round(float(trade['COMPRA'][0])*float(trade['AMOUNT_IN'][0]),2)\n",
    "    trade['DOLLARS_OUT'] = round(float(trade['VENTA'][0])*float(trade['AMOUNT_OUT'][0]),2)\n",
    "    trade['timestamp'] = datetime.now()\n",
    "    trade['Recall'] = recall\n",
    "    trade['Threshold'] = threshold\n",
    "    trade['F1_Score'] = f1_score\n",
    "    \n",
    "    trade.to_csv('/Users/farmentano12/Google Drive/DATA SCIENCE/Proyecto_ML_Binance_V3/ML_trades_Binance_V3.csv', header = None, mode = 'a', index = False)\n",
    "    \n",
    "    print(\"Trades DONE\")\n",
    "\n",
    "else:\n",
    "    print(\"No sell order\")\n",
    "    "
   ]
  }
 ],
 "metadata": {
  "kernelspec": {
   "display_name": "Python 3",
   "language": "python",
   "name": "python3"
  },
  "language_info": {
   "codemirror_mode": {
    "name": "ipython",
    "version": 3
   },
   "file_extension": ".py",
   "mimetype": "text/x-python",
   "name": "python",
   "nbconvert_exporter": "python",
   "pygments_lexer": "ipython3",
   "version": "3.8.0"
  }
 },
 "nbformat": 4,
 "nbformat_minor": 4
}
